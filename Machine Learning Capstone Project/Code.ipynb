{
 "cells": [
  {
   "cell_type": "markdown",
   "metadata": {},
   "source": [
    "# Capstone Project: Price Optimization (E-commerce)\n",
    "#### The objective for this project is to find the most acceptable price range of different products, the target customer is Hong Kong based and E-commerce based."
   ]
  },
  {
   "cell_type": "markdown",
   "metadata": {},
   "source": [
    "## Quick introduction of the dataset\n",
    "#### This data set is downloaded from the databank of a Hong Kong E-commerce website, the file has been combined by the daily sales record from 1-Jul-2022 to 31-Jul-2022.\n",
    "#### The data contains 198,899 rows which was filtered by sub_cat_2_name_chi: Frozen/ Chilled Seafood.\n",
    "#### There are 50 columns and data cleansing & feature extraction will be done as below."
   ]
  },
  {
   "cell_type": "code",
   "execution_count": 1,
   "metadata": {},
   "outputs": [],
   "source": [
    "# Import libraries\n",
    "import pandas as pd\n",
    "import numpy as np\n",
    "import matplotlib.pyplot as plt\n",
    "import seaborn as sns\n",
    "from datetime import datetime\n",
    "from sklearn.metrics import accuracy_score, classification_report, confusion_matrix\n",
    "from sklearn.model_selection import train_test_split\n",
    "import xgboost as xgb\n",
    "from sklearn.svm import SVC\n",
    "from sklearn.preprocessing import StandardScaler\n",
    "import pickle"
   ]
  },
  {
   "cell_type": "code",
   "execution_count": 2,
   "metadata": {},
   "outputs": [
    {
     "name": "stderr",
     "output_type": "stream",
     "text": [
      "/Users/user/opt/anaconda3/lib/python3.9/site-packages/IPython/core/interactiveshell.py:3444: DtypeWarning: Columns (36,44) have mixed types.Specify dtype option on import or set low_memory=False.\n",
      "  exec(code_obj, self.user_global_ns, self.user_ns)\n"
     ]
    }
   ],
   "source": [
    "# Read the data set\n",
    "data = pd.read_csv(\"Dataset.csv\")"
   ]
  },
  {
   "cell_type": "code",
   "execution_count": 3,
   "metadata": {},
   "outputs": [
    {
     "name": "stdout",
     "output_type": "stream",
     "text": [
      "<class 'pandas.core.frame.DataFrame'>\n",
      "RangeIndex: 198900 entries, 0 to 198899\n",
      "Data columns (total 51 columns):\n",
      " #   Column                        Non-Null Count   Dtype  \n",
      "---  ------                        --------------   -----  \n",
      " 0   Unnamed: 0                    198900 non-null  int64  \n",
      " 1   membership_level              198900 non-null  object \n",
      " 2   order_date                    198900 non-null  object \n",
      " 3   order_time_range              198900 non-null  object \n",
      " 4   card_class                    123834 non-null  object \n",
      " 5   card_issuer                   128651 non-null  object \n",
      " 6   card_type                     198900 non-null  object \n",
      " 7   area                          151918 non-null  object \n",
      " 8   district                      151918 non-null  object \n",
      " 9   delivery_district             151918 non-null  object \n",
      " 10  delivery_zone                 151918 non-null  object \n",
      " 11  housing_type                  151917 non-null  object \n",
      " 12  order_value                   198900 non-null  object \n",
      " 13  total_discounts               198900 non-null  object \n",
      " 14  cash_voucher_applied_value    61540 non-null   float64\n",
      " 15  paid_voucher_applied_value    4930 non-null    float64\n",
      " 16  product_id                    63997 non-null   object \n",
      " 17  sku_id                        198900 non-null  object \n",
      " 18  primary_sku_id                198900 non-null  object \n",
      " 19  bundle_set                    1837 non-null    object \n",
      " 20  brand_en                      198852 non-null  object \n",
      " 21  brand_chi                     198852 non-null  object \n",
      " 22  quantity                      198900 non-null  float64\n",
      " 23  total_price                   198900 non-null  object \n",
      " 24  primary_category              198900 non-null  object \n",
      " 25  primary_category_name_en      198900 non-null  object \n",
      " 26  primary_category_name_chi     198900 non-null  object \n",
      " 27  sub_cat_1_name_en             198900 non-null  object \n",
      " 28  sub_cat_1_name_chi            198900 non-null  object \n",
      " 29  sub_cat_2_name_en             198900 non-null  object \n",
      " 30  sub_cat_2_name_chi            198900 non-null  object \n",
      " 31  sub_cat_3_name_en             198900 non-null  object \n",
      " 32  sub_cat_3_name_chi            198900 non-null  object \n",
      " 33  sub_cat_4_name_en             0 non-null       float64\n",
      " 34  sub_cat_4_name_chi            0 non-null       float64\n",
      " 35  sku_level_promotion_amount    101434 non-null  object \n",
      " 36  store_level_promotion_amount  9705 non-null    object \n",
      " 37  mall_level_promotion_amount   3 non-null       float64\n",
      " 38  is_consignment                198900 non-null  object \n",
      " 39  sku_ready_required_days       198900 non-null  float64\n",
      " 40  packing_spec_en               181045 non-null  object \n",
      " 41  packing_spec_chi              181066 non-null  object \n",
      " 42  packing_box_type              198900 non-null  object \n",
      " 43  storage_type                  133546 non-null  object \n",
      " 44  size                          884 non-null     object \n",
      " 45  weight                        198900 non-null  object \n",
      " 46  height                        198900 non-null  object \n",
      " 47  length                        198900 non-null  object \n",
      " 48  width                         198900 non-null  object \n",
      " 49  manufacturer_country_en       198694 non-null  object \n",
      " 50  manufacturer_country_chi      198694 non-null  object \n",
      "dtypes: float64(7), int64(1), object(43)\n",
      "memory usage: 77.4+ MB\n"
     ]
    }
   ],
   "source": [
    "# Get the information of the data set\n",
    "data.info()"
   ]
  },
  {
   "cell_type": "markdown",
   "metadata": {},
   "source": [
    "#### Looks like some of the columns contains too many null values, let's take a look of each of the columns."
   ]
  },
  {
   "cell_type": "code",
   "execution_count": 4,
   "metadata": {},
   "outputs": [
    {
     "name": "stdout",
     "output_type": "stream",
     "text": [
      "        Unnamed: 0  order_date                                        sku_id  \\\n",
      "0            19398  2022-07-01  3Lho5Ta84IQGkONyVuvCSDxAMwPvX7X8rkmEkCdQczE=   \n",
      "1            19399  2022-07-01  5XgZEwtYsxL5xfpLCaHlxNmaEwy7o0Sd5FuqUNBRfRU=   \n",
      "2            19400  2022-07-01  3Lho5Ta84IQGkONyVuvCSDxAMwPvX7X8rkmEkCdQczE=   \n",
      "3            19401  2022-07-01  Kjv+iONH0c+qOb2Aepk1GLj7ej62bTWbe/RZWu0nQH8=   \n",
      "4            19402  2022-07-01  3Lho5Ta84IQGkONyVuvCSDxAMwPvX7X8rkmEkCdQczE=   \n",
      "...            ...         ...                                           ...   \n",
      "198895       19852  2022-07-31  +A/Ss+lustMMiqeXN67qBem7rqsfD2Vqnkc2puc1N1Y=   \n",
      "198896       19853  2022-07-31  O++SDRQnPLqHQhVkr9xX/aiXfM1bYqKcYjiOyekaHyU=   \n",
      "198897       19854  2022-07-31  O++SDRQnPLqHQhVkr9xX/aiXfM1bYqKcYjiOyekaHyU=   \n",
      "198898       19855  2022-07-31  xNc4NCjidpsMwyvOMDE8AseauEOrwPtgQ8sIN53DR+s=   \n",
      "198899       19856  2022-07-31  zgdHMuD2JiQCMQYHpjd4JjyjJX2kHYC8VZwLWpP5B5I=   \n",
      "\n",
      "                                      primary_sku_id  \\\n",
      "0       3Lho5Ta84IQGkONyVuvCSDxAMwPvX7X8rkmEkCdQczE=   \n",
      "1       +NlFSTFNA9QsvKIqx9vW5k52427P62UqGhes4gOK8ok=   \n",
      "2       3Lho5Ta84IQGkONyVuvCSDxAMwPvX7X8rkmEkCdQczE=   \n",
      "3       Kjv+iONH0c+qOb2Aepk1GLj7ej62bTWbe/RZWu0nQH8=   \n",
      "4       3Lho5Ta84IQGkONyVuvCSDxAMwPvX7X8rkmEkCdQczE=   \n",
      "...                                              ...   \n",
      "198895  +A/Ss+lustMMiqeXN67qBem7rqsfD2Vqnkc2puc1N1Y=   \n",
      "198896  O++SDRQnPLqHQhVkr9xX/aiXfM1bYqKcYjiOyekaHyU=   \n",
      "198897  O++SDRQnPLqHQhVkr9xX/aiXfM1bYqKcYjiOyekaHyU=   \n",
      "198898  xNc4NCjidpsMwyvOMDE8AseauEOrwPtgQ8sIN53DR+s=   \n",
      "198899  zgdHMuD2JiQCMQYHpjd4JjyjJX2kHYC8VZwLWpP5B5I=   \n",
      "\n",
      "                                           brand_chi  \\\n",
      "0       V9cwTFNShogsdSqA7keYeaGI2qPC3hjerpSwpp0sLQU=   \n",
      "1       V9cwTFNShogsdSqA7keYeaGI2qPC3hjerpSwpp0sLQU=   \n",
      "2       V9cwTFNShogsdSqA7keYeaGI2qPC3hjerpSwpp0sLQU=   \n",
      "3       V9cwTFNShogsdSqA7keYeaGI2qPC3hjerpSwpp0sLQU=   \n",
      "4       V9cwTFNShogsdSqA7keYeaGI2qPC3hjerpSwpp0sLQU=   \n",
      "...                                              ...   \n",
      "198895  ThK/YVVwLdpAgxmqtyxIt1Hfu8SmUlLFRZob2/bZsYA=   \n",
      "198896  xzTDYKW8ya59dr7/NwWjHjNBGUhqOvLfmORwySQJYgM=   \n",
      "198897  xzTDYKW8ya59dr7/NwWjHjNBGUhqOvLfmORwySQJYgM=   \n",
      "198898  Kxzsfq1kwpiHCBI+ozNztB99AmiyfhB0XgvzyQsgWu0=   \n",
      "198899  ZSIR3l7Ymy+LCABcWQOstFw/MMNgvNhbraqQH5WcghA=   \n",
      "\n",
      "       primary_category_name_chi sub_cat_1_name_chi sub_cat_2_name_chi  \\\n",
      "0                           超級市場            冷凍/急凍食品               急凍海鮮   \n",
      "1                           超級市場            冷凍/急凍食品               急凍海鮮   \n",
      "2                           超級市場            冷凍/急凍食品               急凍海鮮   \n",
      "3                           超級市場            冷凍/急凍食品               急凍海鮮   \n",
      "4                           超級市場            冷凍/急凍食品               急凍海鮮   \n",
      "...                          ...                ...                ...   \n",
      "198895                      超級市場            冷凍/急凍食品               急凍海鮮   \n",
      "198896                      超級市場            冷凍/急凍食品               急凍海鮮   \n",
      "198897                      超級市場            冷凍/急凍食品               急凍海鮮   \n",
      "198898                      超級市場            冷凍/急凍食品               急凍海鮮   \n",
      "198899                      超級市場            冷凍/急凍食品               急凍海鮮   \n",
      "\n",
      "       sub_cat_3_name_chi  sub_cat_4_name_en  sub_cat_4_name_chi  \\\n",
      "0                     急凍魚                NaN                 NaN   \n",
      "1                     急凍魚                NaN                 NaN   \n",
      "2                     急凍魚                NaN                 NaN   \n",
      "3                     急凍魚                NaN                 NaN   \n",
      "4                     急凍魚                NaN                 NaN   \n",
      "...                   ...                ...                 ...   \n",
      "198895             其他急凍海產                NaN                 NaN   \n",
      "198896             其他急凍海產                NaN                 NaN   \n",
      "198897             其他急凍海產                NaN                 NaN   \n",
      "198898             其他急凍海產                NaN                 NaN   \n",
      "198899             其他急凍海產                NaN                 NaN   \n",
      "\n",
      "        mall_level_promotion_amount   packing_spec_chi      size  \\\n",
      "0                               NaN  125g/143g可選(±15g)  Others_1   \n",
      "1                               NaN        厚切無骨黑魚片250g    INTL_2   \n",
      "2                               NaN  125g/143g可選(±15g)  Others_1   \n",
      "3                               NaN        120g (±10g)       NaN   \n",
      "4                               NaN  125g/143g可選(±15g)  Others_1   \n",
      "...                             ...                ...       ...   \n",
      "198895                          NaN               300克       NaN   \n",
      "198896                          NaN               250克       NaN   \n",
      "198897                          NaN               250克       NaN   \n",
      "198898                          NaN                NaN       NaN   \n",
      "198899                          NaN              200 克       NaN   \n",
      "\n",
      "       manufacturer_country_en manufacturer_country_chi  \n",
      "0                        China                       中國  \n",
      "1                        China                       中國  \n",
      "2                        China                       中國  \n",
      "3                     Viet Nam                       越南  \n",
      "4                        China                       中國  \n",
      "...                        ...                      ...  \n",
      "198895                Malaysia                     馬來西亞  \n",
      "198896                   JAPAN                       日本  \n",
      "198897                   JAPAN                       日本  \n",
      "198898                   China                       中國  \n",
      "198899                Malaysia                     馬來西亞  \n",
      "\n",
      "[198900 rows x 16 columns]\n"
     ]
    }
   ],
   "source": [
    "# Check if these columns could be useful\n",
    "print(data.iloc[:, [0, 2, 17, 18, 21, 26, 28, 30, 32, 33, 34, 37, 41, 44, 49, 50]])"
   ]
  },
  {
   "cell_type": "markdown",
   "metadata": {},
   "source": [
    "#### Obviously, there are some columns which are not suitable to be the features.\n",
    "#### So we have to drop those unsuitable columns with the reasons below: \n",
    "##### 1) column id, product_id have too many NULL values which could not be filled in by valuable values\n",
    "##### 2) primary_sku_id is same as sku_id, so we only need one of those\n",
    "##### 3) columns in chinese do not needed as eng version is good enough\n",
    "##### 4) sub_cat_4 are all null values\n",
    "##### 5) mall_level_promotion_amount has too many null values"
   ]
  },
  {
   "cell_type": "code",
   "execution_count": 5,
   "metadata": {},
   "outputs": [],
   "source": [
    "# Drop unsuitable columns\n",
    "data = data.drop(columns = [\"Unnamed: 0\", \"product_id\", \"primary_sku_id\", \"brand_chi\", \"primary_category_name_chi\", \"sub_cat_1_name_chi\", \"sub_cat_2_name_chi\", \"sub_cat_3_name_chi\", \"sub_cat_4_name_en\", \"sub_cat_4_name_chi\", \"mall_level_promotion_amount\", \"packing_spec_chi\", \"size\", \"manufacturer_country_chi\"])"
   ]
  },
  {
   "cell_type": "code",
   "execution_count": 6,
   "metadata": {},
   "outputs": [
    {
     "name": "stdout",
     "output_type": "stream",
     "text": [
      "<class 'pandas.core.frame.DataFrame'>\n",
      "RangeIndex: 198900 entries, 0 to 198899\n",
      "Data columns (total 37 columns):\n",
      " #   Column                        Non-Null Count   Dtype  \n",
      "---  ------                        --------------   -----  \n",
      " 0   membership_level              198900 non-null  object \n",
      " 1   order_date                    198900 non-null  object \n",
      " 2   order_time_range              198900 non-null  object \n",
      " 3   card_class                    123834 non-null  object \n",
      " 4   card_issuer                   128651 non-null  object \n",
      " 5   card_type                     198900 non-null  object \n",
      " 6   area                          151918 non-null  object \n",
      " 7   district                      151918 non-null  object \n",
      " 8   delivery_district             151918 non-null  object \n",
      " 9   delivery_zone                 151918 non-null  object \n",
      " 10  housing_type                  151917 non-null  object \n",
      " 11  order_value                   198900 non-null  object \n",
      " 12  total_discounts               198900 non-null  object \n",
      " 13  cash_voucher_applied_value    61540 non-null   float64\n",
      " 14  paid_voucher_applied_value    4930 non-null    float64\n",
      " 15  sku_id                        198900 non-null  object \n",
      " 16  bundle_set                    1837 non-null    object \n",
      " 17  brand_en                      198852 non-null  object \n",
      " 18  quantity                      198900 non-null  float64\n",
      " 19  total_price                   198900 non-null  object \n",
      " 20  primary_category              198900 non-null  object \n",
      " 21  primary_category_name_en      198900 non-null  object \n",
      " 22  sub_cat_1_name_en             198900 non-null  object \n",
      " 23  sub_cat_2_name_en             198900 non-null  object \n",
      " 24  sub_cat_3_name_en             198900 non-null  object \n",
      " 25  sku_level_promotion_amount    101434 non-null  object \n",
      " 26  store_level_promotion_amount  9705 non-null    object \n",
      " 27  is_consignment                198900 non-null  object \n",
      " 28  sku_ready_required_days       198900 non-null  float64\n",
      " 29  packing_spec_en               181045 non-null  object \n",
      " 30  packing_box_type              198900 non-null  object \n",
      " 31  storage_type                  133546 non-null  object \n",
      " 32  weight                        198900 non-null  object \n",
      " 33  height                        198900 non-null  object \n",
      " 34  length                        198900 non-null  object \n",
      " 35  width                         198900 non-null  object \n",
      " 36  manufacturer_country_en       198694 non-null  object \n",
      "dtypes: float64(4), object(33)\n",
      "memory usage: 56.1+ MB\n"
     ]
    }
   ],
   "source": [
    "# Check the new data: 50 columns -> 36 columns\n",
    "data.info()"
   ]
  },
  {
   "cell_type": "markdown",
   "metadata": {},
   "source": [
    "#### There are many merchants would set different price in weekdays and weekends and this may affect the price range, so let's convert the date column to the more understandable columns: is_weekend"
   ]
  },
  {
   "cell_type": "code",
   "execution_count": 7,
   "metadata": {},
   "outputs": [],
   "source": [
    "# Convert date to \"is_weekend\" column\n",
    "data[\"order_date\"] = data[\"order_date\"].apply(lambda x: datetime.strptime(x, \"%Y-%m-%d\").date())"
   ]
  },
  {
   "cell_type": "code",
   "execution_count": 8,
   "metadata": {},
   "outputs": [],
   "source": [
    "data[\"is_weekend\"] = data[\"order_date\"].apply(lambda x: \"weekend\" if x.weekday() > 4 else \"weekday\")"
   ]
  },
  {
   "cell_type": "code",
   "execution_count": 9,
   "metadata": {},
   "outputs": [],
   "source": [
    "# Drop the date columns as \"is_weekend\" is created\n",
    "data = data.drop(columns = \"order_date\")"
   ]
  },
  {
   "cell_type": "markdown",
   "metadata": {},
   "source": [
    "#### Since the total_price column is object, it is difficult to manupulate and the range itself is discrete, it would be better to convert it to integer columns."
   ]
  },
  {
   "cell_type": "code",
   "execution_count": 10,
   "metadata": {},
   "outputs": [],
   "source": [
    "# Create integer columns for easier manipulating\n",
    "data[\"total_price_from\"] = data[\"total_price\"].apply(lambda x: x.split(\"-\")[0]).astype(float)\n",
    "data[\"total_price_to\"] = data[\"total_price\"].apply(lambda x: x.split(\"-\")[1]).astype(float)\n",
    "data = data.drop(columns = [\"total_price\"])"
   ]
  },
  {
   "cell_type": "markdown",
   "metadata": {},
   "source": [
    "#### With the converted columns, we could now dig in to the other columns easier."
   ]
  },
  {
   "cell_type": "code",
   "execution_count": 11,
   "metadata": {},
   "outputs": [
    {
     "name": "stdout",
     "output_type": "stream",
     "text": [
      "                  cash_voucher_applied_value  paid_voucher_applied_value  \\\n",
      "membership_level                                                           \n",
      "GOLDVIP                            50.072180                  168.047667   \n",
      "NORMAL                             45.533425                  355.867039   \n",
      "SENIOR                             25.674037                         NaN   \n",
      "VIP                                44.941904                  260.047125   \n",
      "\n",
      "                  quantity  sku_ready_required_days  total_price_from  \\\n",
      "membership_level                                                        \n",
      "GOLDVIP           1.385316                 0.000333         74.164514   \n",
      "NORMAL            1.330348                 0.001394         80.951300   \n",
      "SENIOR            1.502618                 0.000000         82.306283   \n",
      "VIP               1.395939                 0.003516         72.068465   \n",
      "\n",
      "                  total_price_to  \n",
      "membership_level                  \n",
      "GOLDVIP               102.133637  \n",
      "NORMAL                117.259481  \n",
      "SENIOR                117.185864  \n",
      "VIP                    99.525623  \n"
     ]
    }
   ],
   "source": [
    "# See do the left columns affect on the price range\n",
    "# We would start from membership_level\n",
    "print(data.groupby(by = \"membership_level\").mean())"
   ]
  },
  {
   "cell_type": "markdown",
   "metadata": {},
   "source": [
    "#### Looks like GOLDVIP and NORMAL are willing to pay more, but since GOLDVIP and VIP share the same discount and NORMAL has the higher paid_voucher_applied_value, membership_level looks like could not change the price range, but the voucher values do."
   ]
  },
  {
   "cell_type": "code",
   "execution_count": 12,
   "metadata": {},
   "outputs": [
    {
     "name": "stdout",
     "output_type": "stream",
     "text": [
      "                  cash_voucher_applied_value  paid_voucher_applied_value  \\\n",
      "order_time_range                                                           \n",
      "00-09                              49.965617                  224.272344   \n",
      "09-12                              46.665494                  226.963049   \n",
      "12-15                              47.804105                  240.378007   \n",
      "15-18                              47.739774                  241.737458   \n",
      "18-21                              46.364668                  237.171995   \n",
      "21-24                              46.679943                  245.591111   \n",
      "\n",
      "                  quantity  sku_ready_required_days  total_price_from  \\\n",
      "order_time_range                                                        \n",
      "00-09             1.397209                 0.001532         70.937242   \n",
      "09-12             1.396309                 0.001247         76.494737   \n",
      "12-15             1.381096                 0.001410         78.523427   \n",
      "15-18             1.357603                 0.001887         79.227580   \n",
      "18-21             1.366386                 0.001695         75.454049   \n",
      "21-24             1.351356                 0.002852         71.211644   \n",
      "\n",
      "                  total_price_to  \n",
      "order_time_range                  \n",
      "00-09                  97.626775  \n",
      "09-12                 106.998269  \n",
      "12-15                 111.465933  \n",
      "15-18                 112.749820  \n",
      "18-21                 105.648187  \n",
      "21-24                  97.833929  \n"
     ]
    }
   ],
   "source": [
    "# Does order_time_range affects the price range?\n",
    "print(data.groupby(by = \"order_time_range\").mean())"
   ]
  },
  {
   "cell_type": "markdown",
   "metadata": {},
   "source": [
    "#### Looks like no big difference by different order time range. Besides, card_class, card_issuer and card_type do not affect the price range, so we would drop those columns together."
   ]
  },
  {
   "cell_type": "code",
   "execution_count": 13,
   "metadata": {},
   "outputs": [],
   "source": [
    "# Drop those columns which do not affect the price range\n",
    "data = data.drop(columns = [\"membership_level\", \"order_time_range\", \"card_class\", \"card_issuer\", \"card_type\"])"
   ]
  },
  {
   "cell_type": "code",
   "execution_count": 14,
   "metadata": {},
   "outputs": [
    {
     "name": "stdout",
     "output_type": "stream",
     "text": [
      "                        cash_voucher_applied_value  \\\n",
      "sub_cat_3_name_en                                    \n",
      "Frozen Fish                              47.342815   \n",
      "Frozen Seashell                          48.417760   \n",
      "Frozen Shrimp and Crab                   48.088191   \n",
      "Other Frozen Seafood                     47.166427   \n",
      "\n",
      "                        paid_voucher_applied_value  quantity  \\\n",
      "sub_cat_3_name_en                                              \n",
      "Frozen Fish                             236.444644  1.433940   \n",
      "Frozen Seashell                         251.350244  1.231642   \n",
      "Frozen Shrimp and Crab                  224.256000  1.342420   \n",
      "Other Frozen Seafood                    226.418121  1.313662   \n",
      "\n",
      "                        sku_ready_required_days  total_price_from  \\\n",
      "sub_cat_3_name_en                                                   \n",
      "Frozen Fish                            0.001321         73.655018   \n",
      "Frozen Seashell                        0.005316         92.101733   \n",
      "Frozen Shrimp and Crab                 0.000852         70.266496   \n",
      "Other Frozen Seafood                   0.000000         64.273318   \n",
      "\n",
      "                        total_price_to  \n",
      "sub_cat_3_name_en                       \n",
      "Frozen Fish                 100.905824  \n",
      "Frozen Seashell             139.236177  \n",
      "Frozen Shrimp and Crab       96.673882  \n",
      "Other Frozen Seafood         88.572757  \n"
     ]
    }
   ],
   "source": [
    "# See if category cause any changs in price\n",
    "print(data.groupby(by = \"sub_cat_3_name_en\").mean())"
   ]
  },
  {
   "cell_type": "markdown",
   "metadata": {},
   "source": [
    "#### So different category would cause the price changes, we would like to keep it as a feature."
   ]
  },
  {
   "cell_type": "code",
   "execution_count": 15,
   "metadata": {},
   "outputs": [
    {
     "name": "stdout",
     "output_type": "stream",
     "text": [
      "                  cash_voucher_applied_value  paid_voucher_applied_value  \\\n",
      "packing_box_type                                                           \n",
      "E                                  47.641544                  235.779655   \n",
      "J                                  45.919316                  238.571429   \n",
      "\n",
      "                  quantity  sku_ready_required_days  total_price_from  \\\n",
      "packing_box_type                                                        \n",
      "E                 1.374755                 0.001777         75.320079   \n",
      "J                 1.372180                 0.000000         38.537594   \n",
      "\n",
      "                  total_price_to  \n",
      "packing_box_type                  \n",
      "E                     105.420185  \n",
      "J                      43.231203  \n"
     ]
    }
   ],
   "source": [
    "# See if packing box type cause any changs in price\n",
    "print(data.groupby(by = \"packing_box_type\").mean())"
   ]
  },
  {
   "cell_type": "markdown",
   "metadata": {},
   "source": [
    "#### The packing box type would also cause price changes, so we would keep it as a feature."
   ]
  },
  {
   "cell_type": "code",
   "execution_count": 16,
   "metadata": {},
   "outputs": [],
   "source": [
    "# Change the \"bundle_set\" column with Boolean\n",
    "data[\"bundle_set\"] = data[\"bundle_set\"].notnull()\n",
    "data[\"bundle_set\"] = data[\"bundle_set\"].apply(lambda x: int(x))"
   ]
  },
  {
   "cell_type": "code",
   "execution_count": 17,
   "metadata": {},
   "outputs": [
    {
     "name": "stdout",
     "output_type": "stream",
     "text": [
      "            cash_voucher_applied_value  paid_voucher_applied_value  quantity  \\\n",
      "bundle_set                                                                     \n",
      "0                            47.548163                  236.352906  1.369481   \n",
      "1                            58.211962                  192.500000  1.940120   \n",
      "\n",
      "            sku_ready_required_days  total_price_from  total_price_to  \n",
      "bundle_set                                                             \n",
      "0                          0.001284         75.434463      105.690764  \n",
      "1                          0.054437         57.723462       67.388949  \n"
     ]
    }
   ],
   "source": [
    "# Check how is this column now\n",
    "print(data.groupby(by = \"bundle_set\").mean())"
   ]
  },
  {
   "cell_type": "markdown",
   "metadata": {},
   "source": [
    "#### Providing a bundle set or not is obviously change the price range, so we would keep it as a feature.\n",
    "#### We would have a look on geographic data now."
   ]
  },
  {
   "cell_type": "code",
   "execution_count": 18,
   "metadata": {},
   "outputs": [],
   "source": [
    "# Drop unsuitable columns (\"delivery_district\" is for internal uses and \"delivery_zone\" is same as district)\n",
    "data = data.drop(columns = [\"delivery_district\", \"delivery_zone\"])"
   ]
  },
  {
   "cell_type": "code",
   "execution_count": 19,
   "metadata": {},
   "outputs": [],
   "source": [
    "# Drop unsuitable columns (\"area\" is already enough for customer targeting)\n",
    "data = data.drop(columns = [\"district\"])"
   ]
  },
  {
   "cell_type": "code",
   "execution_count": 20,
   "metadata": {},
   "outputs": [],
   "source": [
    "# Handle the null values on these two columns\n",
    "data[\"area\"] = data[\"area\"].fillna(\"NULL\")\n",
    "data[\"housing_type\"] = data[\"housing_type\"].fillna(\"NULL\")"
   ]
  },
  {
   "cell_type": "code",
   "execution_count": 21,
   "metadata": {},
   "outputs": [
    {
     "name": "stdout",
     "output_type": "stream",
     "text": [
      "      cash_voucher_applied_value  paid_voucher_applied_value  bundle_set  \\\n",
      "area                                                                       \n",
      "HK                     47.922251                  208.658783    0.010615   \n",
      "KLN                    47.642853                  222.112274    0.011745   \n",
      "NT                     47.394147                  250.903111    0.012521   \n",
      "NULL                   51.265495                  281.290323    0.000511   \n",
      "\n",
      "      quantity  sku_ready_required_days  total_price_from  total_price_to  \n",
      "area                                                                       \n",
      "HK    1.397508                 0.001650         76.473932      106.335712  \n",
      "KLN   1.395938                 0.001692         73.857742      102.082342  \n",
      "NT    1.386896                 0.002036         71.631593       98.677135  \n",
      "NULL  1.320995                 0.001469         82.006130      119.008556  \n"
     ]
    }
   ],
   "source": [
    "# Check whether living area and housing type would cause any differences\n",
    "print(data.groupby(by = \"area\").mean())"
   ]
  },
  {
   "cell_type": "code",
   "execution_count": 22,
   "metadata": {},
   "outputs": [
    {
     "name": "stdout",
     "output_type": "stream",
     "text": [
      "                              cash_voucher_applied_value  \\\n",
      "housing_type                                               \n",
      "Commercial                                     42.805236   \n",
      "HOS                                            45.452182   \n",
      "House                                          67.345476   \n",
      "NULL                                           51.265495   \n",
      "Private                                        48.348081   \n",
      "Public                                         49.575607   \n",
      "Village/Villa/Tenement House                   48.764848   \n",
      "\n",
      "                              paid_voucher_applied_value  bundle_set  \\\n",
      "housing_type                                                           \n",
      "Commercial                                    203.972570    0.012369   \n",
      "HOS                                           253.382937    0.012884   \n",
      "House                                          60.000000    0.000000   \n",
      "NULL                                          281.290323    0.000511   \n",
      "Private                                       236.119052    0.011257   \n",
      "Public                                        288.119540    0.014307   \n",
      "Village/Villa/Tenement House                   30.000000    0.000000   \n",
      "\n",
      "                              quantity  sku_ready_required_days  \\\n",
      "housing_type                                                      \n",
      "Commercial                    1.471284                 0.001446   \n",
      "HOS                           1.372611                 0.002178   \n",
      "House                         1.422222                 0.000000   \n",
      "NULL                          1.321010                 0.001469   \n",
      "Private                       1.368174                 0.001853   \n",
      "Public                        1.414966                 0.002302   \n",
      "Village/Villa/Tenement House  1.230088                 0.008850   \n",
      "\n",
      "                              total_price_from  total_price_to  \n",
      "housing_type                                                    \n",
      "Commercial                           73.464738      101.096955  \n",
      "HOS                                  70.269477       96.487600  \n",
      "House                                94.733333      141.377778  \n",
      "NULL                                 82.006513      119.010280  \n",
      "Private                              73.907008      102.371525  \n",
      "Public                               71.525131       98.467685  \n",
      "Village/Villa/Tenement House         64.256637       85.623894  \n"
     ]
    }
   ],
   "source": [
    "print(data.groupby(by = \"housing_type\").mean())"
   ]
  },
  {
   "cell_type": "markdown",
   "metadata": {},
   "source": [
    "#### Looks like people live private and commercial housing in HK area are willing to afford better products with higher price. It could help in marketing strategy (For example, launching a pop-up store in shopping malls near that district, etc.) but unfortunately, these features could not cause any changes in price range so we would drop these columns."
   ]
  },
  {
   "cell_type": "code",
   "execution_count": 23,
   "metadata": {},
   "outputs": [],
   "source": [
    "# Drop area and housing type as these columns do not affect the price range\n",
    "data = data.drop(columns = [\"area\", \"housing_type\"])"
   ]
  },
  {
   "cell_type": "markdown",
   "metadata": {},
   "source": [
    "#### With the same reason of total_price, we would like to do the same thing to order_value for easier manipulation."
   ]
  },
  {
   "cell_type": "code",
   "execution_count": 24,
   "metadata": {},
   "outputs": [],
   "source": [
    "# Create integer columns for easier manupulating\n",
    "data[\"order_value_from\"] = data[\"order_value\"].apply(lambda x: x.split(\"-\")[0]).astype(float)\n",
    "data[\"order_value_to\"] = data[\"order_value\"].apply(lambda x: x.split(\"-\")[1]).astype(float)\n",
    "data = data.drop(columns = [\"order_value\"])"
   ]
  },
  {
   "cell_type": "markdown",
   "metadata": {},
   "source": [
    "#### Columns about the discounts are absoulutely affecting the price range but the amount is too discrete, so we would convert it to boolean, which means does any discounts provided."
   ]
  },
  {
   "cell_type": "code",
   "execution_count": 25,
   "metadata": {},
   "outputs": [],
   "source": [
    "# Create a column to see whether there had a discount\n",
    "data[\"any_discounts\"] = data[\"total_discounts\"].apply(lambda x: 0 if (x == \"0-0.5\") else 1)\n",
    "data = data.drop(columns = [\"total_discounts\"])"
   ]
  },
  {
   "cell_type": "code",
   "execution_count": 26,
   "metadata": {},
   "outputs": [],
   "source": [
    "# Fill in NAN with 0\n",
    "data[\"cash_voucher_applied_value\"] = data[\"cash_voucher_applied_value\"].fillna(0.00)\n",
    "data[\"paid_voucher_applied_value\"] = data[\"paid_voucher_applied_value\"].fillna(0.00)"
   ]
  },
  {
   "cell_type": "code",
   "execution_count": 27,
   "metadata": {},
   "outputs": [],
   "source": [
    "# Fill NaN values (\"sku_level_promotion_amount\")\n",
    "data[\"sku_level_promotion_amount\"] = data[\"sku_level_promotion_amount\"].fillna(0.00)"
   ]
  },
  {
   "cell_type": "code",
   "execution_count": 28,
   "metadata": {},
   "outputs": [
    {
     "data": {
      "image/png": "[encoded data removed]",
      "text/plain": [
       "<Figure size 432x288 with 1 Axes>"
      ]
     },
     "metadata": {
      "needs_background": "light"
     },
     "output_type": "display_data"
    }
   ],
   "source": [
    "# See how the promotion_amount distribute\n",
    "ax = sns.countplot(x=\"sku_level_promotion_amount\", data=data)"
   ]
  },
  {
   "cell_type": "markdown",
   "metadata": {},
   "source": [
    "#### As the sku_level_promotion_amount is too discrete, and this promotion is provided by the website itself, the actual amount is undefinable, we would drop this column out and use other discount related columns for further exploring."
   ]
  },
  {
   "cell_type": "code",
   "execution_count": 29,
   "metadata": {},
   "outputs": [],
   "source": [
    "# Drop unsuitable columns (Undefinable and cannot control)\n",
    "data = data.drop(columns = [\"sku_level_promotion_amount\"])"
   ]
  },
  {
   "cell_type": "code",
   "execution_count": 30,
   "metadata": {},
   "outputs": [],
   "source": [
    "# Change the \"store_level_promotion_amount\" column wiht Boolean \n",
    "data[\"store_level_promotion_amount\"] = data[\"store_level_promotion_amount\"].notnull()"
   ]
  },
  {
   "cell_type": "code",
   "execution_count": 31,
   "metadata": {},
   "outputs": [],
   "source": [
    "data[\"store_promotion\"] = data[\"store_level_promotion_amount\"].apply(lambda x: int(x))\n",
    "data = data.drop(columns = [\"store_level_promotion_amount\"])"
   ]
  },
  {
   "cell_type": "markdown",
   "metadata": {},
   "source": [
    "#### Now, let us combine all the discount related columns into one, which only shows did any discounts applied in this sales record."
   ]
  },
  {
   "cell_type": "code",
   "execution_count": 32,
   "metadata": {},
   "outputs": [],
   "source": [
    "# Create column to see whether there had a voucher applied\n",
    "def yes_no(x, y, z, w):\n",
    "    if x > 0 or y > 0 or z > 0 or w > 0:\n",
    "        return 1\n",
    "    else:\n",
    "        return 0\n",
    "data[\"any_promotion\"] = data.apply(lambda x: yes_no(x[\"cash_voucher_applied_value\"], x[\"paid_voucher_applied_value\"], x[\"any_discounts\"], x[\"store_promotion\"]), axis = 1)\n",
    "data = data.drop(columns = [\"cash_voucher_applied_value\", \"paid_voucher_applied_value\", \"any_discounts\", \"store_promotion\"])"
   ]
  },
  {
   "cell_type": "markdown",
   "metadata": {},
   "source": [
    "#### After exploring the discount related columns, we would like to explore the left columns one by one."
   ]
  },
  {
   "cell_type": "code",
   "execution_count": 33,
   "metadata": {},
   "outputs": [
    {
     "data": {
      "image/png": "[encoded data removed]",
      "text/plain": [
       "<Figure size 432x288 with 1 Axes>"
      ]
     },
     "metadata": {
      "needs_background": "light"
     },
     "output_type": "display_data"
    }
   ],
   "source": [
    "# Does brand_en affect any changes in price range?\n",
    "ax = sns.countplot(x=\"brand_en\", data=data)"
   ]
  },
  {
   "cell_type": "markdown",
   "metadata": {},
   "source": [
    "#### Drop out brand_en (We cannot define what brand it is, the brand name has been encoded by the website)"
   ]
  },
  {
   "cell_type": "code",
   "execution_count": 34,
   "metadata": {},
   "outputs": [],
   "source": [
    "data = data.drop(columns = [\"brand_en\"])"
   ]
  },
  {
   "cell_type": "markdown",
   "metadata": {},
   "source": [
    "#### Quantity may causes changes in price range (Buy 2 get 1 free, etc.), so we would keep it as a feature as well."
   ]
  },
  {
   "cell_type": "code",
   "execution_count": 35,
   "metadata": {},
   "outputs": [],
   "source": [
    "data[\"quantity\"] = data[\"quantity\"].apply(lambda x: int(x))"
   ]
  },
  {
   "cell_type": "markdown",
   "metadata": {},
   "source": [
    "#### There are some rows that the order_value is lower than the product_value, which is not make sense and we would like to exclude those rows out of our dataset."
   ]
  },
  {
   "cell_type": "code",
   "execution_count": 36,
   "metadata": {},
   "outputs": [],
   "source": [
    "# Update the data to exclude those record that the order_value is lower than the product_value\n",
    "data = data.loc[(data[\"order_value_from\"] > data[\"total_price_from\"])]"
   ]
  },
  {
   "cell_type": "markdown",
   "metadata": {},
   "source": [
    "#### Since we are done with the order_value columns, we would like to convert those columns into one column, the price range column which we are going to predict."
   ]
  },
  {
   "cell_type": "code",
   "execution_count": 37,
   "metadata": {},
   "outputs": [],
   "source": [
    "# Build a function to calculate the rounded (< 50, 100 each starts from 100) total_price which will be our y  (To be predicted)\n",
    "def price_range(fr, to):\n",
    "    if float(fr) == 0:\n",
    "        return \"FREE\"\n",
    "    fr = round(50 * round(float(fr) / 50))\n",
    "    to = round(50 * round(float(to) / 50))\n",
    "    if fr == to:\n",
    "        fr -= 50\n",
    "    if fr == 0:\n",
    "        return \"< 50\"\n",
    "    if fr < 0:\n",
    "        return \"FREE\"\n",
    "    else:\n",
    "        return str(fr + 1) + \"-\" + str(to)"
   ]
  },
  {
   "cell_type": "code",
   "execution_count": 38,
   "metadata": {},
   "outputs": [],
   "source": [
    "data[\"total_price_range\"] = data.apply(lambda x: price_range(x[\"total_price_from\"], x[\"total_price_to\"]), axis = 1)"
   ]
  },
  {
   "cell_type": "code",
   "execution_count": 39,
   "metadata": {},
   "outputs": [
    {
     "data": {
      "text/html": [
       "<div>\n",
       "<style scoped>\n",
       "    .dataframe tbody tr th:only-of-type {\n",
       "        vertical-align: middle;\n",
       "    }\n",
       "\n",
       "    .dataframe tbody tr th {\n",
       "        vertical-align: top;\n",
       "    }\n",
       "\n",
       "    .dataframe thead th {\n",
       "        text-align: right;\n",
       "    }\n",
       "</style>\n",
       "<table border=\"1\" class=\"dataframe\">\n",
       "  <thead>\n",
       "    <tr style=\"text-align: right;\">\n",
       "      <th></th>\n",
       "      <th>total_price_from</th>\n",
       "      <th>total_price_to</th>\n",
       "      <th>total_price_range</th>\n",
       "    </tr>\n",
       "  </thead>\n",
       "  <tbody>\n",
       "    <tr>\n",
       "      <th>1</th>\n",
       "      <td>38.0</td>\n",
       "      <td>40.0</td>\n",
       "      <td>&lt; 50</td>\n",
       "    </tr>\n",
       "    <tr>\n",
       "      <th>2</th>\n",
       "      <td>44.0</td>\n",
       "      <td>46.0</td>\n",
       "      <td>&lt; 50</td>\n",
       "    </tr>\n",
       "    <tr>\n",
       "      <th>3</th>\n",
       "      <td>34.0</td>\n",
       "      <td>36.0</td>\n",
       "      <td>&lt; 50</td>\n",
       "    </tr>\n",
       "    <tr>\n",
       "      <th>4</th>\n",
       "      <td>44.0</td>\n",
       "      <td>46.0</td>\n",
       "      <td>&lt; 50</td>\n",
       "    </tr>\n",
       "    <tr>\n",
       "      <th>5</th>\n",
       "      <td>85.0</td>\n",
       "      <td>90.0</td>\n",
       "      <td>51-100</td>\n",
       "    </tr>\n",
       "    <tr>\n",
       "      <th>...</th>\n",
       "      <td>...</td>\n",
       "      <td>...</td>\n",
       "      <td>...</td>\n",
       "    </tr>\n",
       "    <tr>\n",
       "      <th>198895</th>\n",
       "      <td>46.0</td>\n",
       "      <td>48.0</td>\n",
       "      <td>&lt; 50</td>\n",
       "    </tr>\n",
       "    <tr>\n",
       "      <th>198896</th>\n",
       "      <td>100.0</td>\n",
       "      <td>200.0</td>\n",
       "      <td>101-200</td>\n",
       "    </tr>\n",
       "    <tr>\n",
       "      <th>198897</th>\n",
       "      <td>85.0</td>\n",
       "      <td>90.0</td>\n",
       "      <td>51-100</td>\n",
       "    </tr>\n",
       "    <tr>\n",
       "      <th>198898</th>\n",
       "      <td>44.0</td>\n",
       "      <td>46.0</td>\n",
       "      <td>&lt; 50</td>\n",
       "    </tr>\n",
       "    <tr>\n",
       "      <th>198899</th>\n",
       "      <td>50.0</td>\n",
       "      <td>55.0</td>\n",
       "      <td>&lt; 50</td>\n",
       "    </tr>\n",
       "  </tbody>\n",
       "</table>\n",
       "<p>181070 rows × 3 columns</p>\n",
       "</div>"
      ],
      "text/plain": [
       "        total_price_from  total_price_to total_price_range\n",
       "1                   38.0            40.0              < 50\n",
       "2                   44.0            46.0              < 50\n",
       "3                   34.0            36.0              < 50\n",
       "4                   44.0            46.0              < 50\n",
       "5                   85.0            90.0            51-100\n",
       "...                  ...             ...               ...\n",
       "198895              46.0            48.0              < 50\n",
       "198896             100.0           200.0           101-200\n",
       "198897              85.0            90.0            51-100\n",
       "198898              44.0            46.0              < 50\n",
       "198899              50.0            55.0              < 50\n",
       "\n",
       "[181070 rows x 3 columns]"
      ]
     },
     "execution_count": 39,
     "metadata": {},
     "output_type": "execute_result"
    }
   ],
   "source": [
    "# Check whether the column converted correctly\n",
    "data.loc[:, [\"total_price_from\", \"total_price_to\", \"total_price_range\"]]"
   ]
  },
  {
   "cell_type": "code",
   "execution_count": 40,
   "metadata": {},
   "outputs": [
    {
     "data": {
      "text/plain": [
       "< 50         82901\n",
       "101-200      39041\n",
       "51-100       35945\n",
       "FREE         12608\n",
       "201-300       7227\n",
       "301-400       2104\n",
       "401-500        729\n",
       "501-600        277\n",
       "601-700        102\n",
       "701-800         62\n",
       "801-900         31\n",
       "901-1000        20\n",
       "1001-1100        7\n",
       "1101-1200        4\n",
       "1401-1500        4\n",
       "1301-1400        4\n",
       "1201-1300        3\n",
       "1601-1700        1\n",
       "Name: total_price_range, dtype: int64"
      ]
     },
     "execution_count": 40,
     "metadata": {},
     "output_type": "execute_result"
    }
   ],
   "source": [
    "# Check the distribution of total_price_range\n",
    "data[\"total_price_range\"].value_counts()"
   ]
  },
  {
   "cell_type": "markdown",
   "metadata": {},
   "source": [
    "#### Seems the column has been converted sucessfully. However, the cost range is mostly at < 50 to 400, we need one more step to convert those rows with price range over 400 into > 401."
   ]
  },
  {
   "cell_type": "code",
   "execution_count": 41,
   "metadata": {},
   "outputs": [],
   "source": [
    "# Since the price range is mostly at < 50 to 400, we would like to convert those price range over 400 to > 401\n",
    "def to_401 (x):\n",
    "    try:\n",
    "        if int(x.split(\"-\")[0]) > 400:\n",
    "            return \"> 401\"\n",
    "        else:\n",
    "            return x\n",
    "    except:\n",
    "        return x"
   ]
  },
  {
   "cell_type": "code",
   "execution_count": 42,
   "metadata": {},
   "outputs": [],
   "source": [
    "data[\"total_price_range\"] = data[\"total_price_range\"].apply(lambda x: to_401(x))"
   ]
  },
  {
   "cell_type": "code",
   "execution_count": 43,
   "metadata": {},
   "outputs": [
    {
     "data": {
      "text/plain": [
       "< 50       82901\n",
       "101-200    39041\n",
       "51-100     35945\n",
       "FREE       12608\n",
       "201-300     7227\n",
       "301-400     2104\n",
       "> 401       1244\n",
       "Name: total_price_range, dtype: int64"
      ]
     },
     "execution_count": 43,
     "metadata": {},
     "output_type": "execute_result"
    }
   ],
   "source": [
    "# Check if the columns be converted correctly\n",
    "data[\"total_price_range\"].value_counts()"
   ]
  },
  {
   "cell_type": "markdown",
   "metadata": {},
   "source": [
    "#### The y column looks good now, we would drop the price columns later.\n",
    "#### At the same time, the price range is relatively large after 100, but since the raw data is already built in such a large range, we could only continue by that."
   ]
  },
  {
   "cell_type": "markdown",
   "metadata": {},
   "source": [
    "#### How are the category columns look like?"
   ]
  },
  {
   "cell_type": "code",
   "execution_count": 44,
   "metadata": {},
   "outputs": [
    {
     "data": {
      "text/plain": [
       "AA11112010001    103423\n",
       "AA11112020001     35364\n",
       "AA11112030001     28343\n",
       "AA11112090001     13940\n",
       "Name: primary_category, dtype: int64"
      ]
     },
     "execution_count": 44,
     "metadata": {},
     "output_type": "execute_result"
    }
   ],
   "source": [
    "# \"primary_category\"\n",
    "data[\"primary_category\"].value_counts()"
   ]
  },
  {
   "cell_type": "markdown",
   "metadata": {},
   "source": [
    "#### The primary_category is for internal usage."
   ]
  },
  {
   "cell_type": "code",
   "execution_count": 45,
   "metadata": {},
   "outputs": [
    {
     "data": {
      "text/plain": [
       "Supermarket    181070\n",
       "Name: primary_category_name_en, dtype: int64"
      ]
     },
     "execution_count": 45,
     "metadata": {},
     "output_type": "execute_result"
    }
   ],
   "source": [
    "# \"primary_category_name_en\"\n",
    "data[\"primary_category_name_en\"].value_counts()"
   ]
  },
  {
   "cell_type": "code",
   "execution_count": 46,
   "metadata": {},
   "outputs": [
    {
     "data": {
      "text/plain": [
       "Chilled/ Frozen Food    181070\n",
       "Name: sub_cat_1_name_en, dtype: int64"
      ]
     },
     "execution_count": 46,
     "metadata": {},
     "output_type": "execute_result"
    }
   ],
   "source": [
    "# \"sub_cat_1_name_en\"\n",
    "data[\"sub_cat_1_name_en\"].value_counts()"
   ]
  },
  {
   "cell_type": "code",
   "execution_count": 47,
   "metadata": {},
   "outputs": [
    {
     "data": {
      "text/plain": [
       "Frozen Seafood    181070\n",
       "Name: sub_cat_2_name_en, dtype: int64"
      ]
     },
     "execution_count": 47,
     "metadata": {},
     "output_type": "execute_result"
    }
   ],
   "source": [
    "# \"sub_cat_2_name_en\"\n",
    "data[\"sub_cat_2_name_en\"].value_counts()"
   ]
  },
  {
   "cell_type": "code",
   "execution_count": 48,
   "metadata": {},
   "outputs": [
    {
     "data": {
      "text/plain": [
       "Frozen Fish               103423\n",
       "Frozen Shrimp and Crab     35364\n",
       "Frozen Seashell            28343\n",
       "Other Frozen Seafood       13940\n",
       "Name: sub_cat_3_name_en, dtype: int64"
      ]
     },
     "execution_count": 48,
     "metadata": {},
     "output_type": "execute_result"
    }
   ],
   "source": [
    "# \"sub_cat_3_name_en\"\n",
    "data[\"sub_cat_3_name_en\"].value_counts()"
   ]
  },
  {
   "cell_type": "markdown",
   "metadata": {},
   "source": [
    "#### All the category columns before 3 are with the same values, so we could drop those out of our data."
   ]
  },
  {
   "cell_type": "code",
   "execution_count": 49,
   "metadata": {},
   "outputs": [],
   "source": [
    "# Drop unsuitable columns (All with the same values)\n",
    "data = data.drop(columns = [\"primary_category\", \"primary_category_name_en\", \"sub_cat_1_name_en\", \"sub_cat_2_name_en\"])"
   ]
  },
  {
   "cell_type": "markdown",
   "metadata": {},
   "source": [
    "#### Since this dataset is base on frozen seafood, delivery date would affect the price range due to the storage and deliver issues."
   ]
  },
  {
   "cell_type": "code",
   "execution_count": 50,
   "metadata": {},
   "outputs": [
    {
     "data": {
      "text/plain": [
       "0.0    180766\n",
       "1.0       304\n",
       "Name: sku_ready_required_days, dtype: int64"
      ]
     },
     "execution_count": 50,
     "metadata": {},
     "output_type": "execute_result"
    }
   ],
   "source": [
    "# \"sku_ready_required_days\"\n",
    "data[\"sku_ready_required_days\"].value_counts()"
   ]
  },
  {
   "cell_type": "code",
   "execution_count": 51,
   "metadata": {},
   "outputs": [],
   "source": [
    "data[\"sku_ready_required_days\"] = data[\"sku_ready_required_days\"].astype(int)"
   ]
  },
  {
   "cell_type": "markdown",
   "metadata": {},
   "source": [
    "#### Consigning the products to the website storage or not, share the same cost range and it won't affect to the price range."
   ]
  },
  {
   "cell_type": "code",
   "execution_count": 52,
   "metadata": {},
   "outputs": [],
   "source": [
    "# Drop is_consignment which won't affect the price range\n",
    "data = data.drop(columns = [\"is_consignment\"])"
   ]
  },
  {
   "cell_type": "markdown",
   "metadata": {},
   "source": [
    "#### Packing details would be important in price range, let's have a look on those columns."
   ]
  },
  {
   "cell_type": "code",
   "execution_count": 53,
   "metadata": {},
   "outputs": [
    {
     "data": {
      "text/plain": [
       "300g                   22156\n",
       "500g                   17185\n",
       "480g                   14021\n",
       "400g                   12608\n",
       "454g                    7719\n",
       "                       ...  \n",
       "226.8g                     1\n",
       "1/pkg/2pc                  1\n",
       "10-12pcs, 500g/pack        1\n",
       "300G (8PCS)                1\n",
       "1/pkg/10pc                 1\n",
       "Name: packing_spec_en, Length: 561, dtype: int64"
      ]
     },
     "execution_count": 53,
     "metadata": {},
     "output_type": "execute_result"
    }
   ],
   "source": [
    "# \"packing_spec_en\"\n",
    "data[\"packing_spec_en\"].value_counts()"
   ]
  },
  {
   "cell_type": "code",
   "execution_count": 54,
   "metadata": {},
   "outputs": [
    {
     "data": {
      "text/plain": [
       "520g      12282\n",
       "300g      11021\n",
       "502g       9211\n",
       "508g       8272\n",
       "500g       7690\n",
       "          ...  \n",
       "27g           1\n",
       "226.8g        1\n",
       "3.8kg         1\n",
       "56g           1\n",
       "239g          1\n",
       "Name: weight, Length: 233, dtype: int64"
      ]
     },
     "execution_count": 54,
     "metadata": {},
     "output_type": "execute_result"
    }
   ],
   "source": [
    "# \"weight\"\n",
    "data[\"weight\"].value_counts()"
   ]
  },
  {
   "cell_type": "code",
   "execution_count": 55,
   "metadata": {},
   "outputs": [],
   "source": [
    "# Drop packing_spec_en (Hard to classify and \"weight\" could do the same effect)\n",
    "data = data.drop(columns = [\"packing_spec_en\"])"
   ]
  },
  {
   "cell_type": "code",
   "execution_count": 56,
   "metadata": {},
   "outputs": [
    {
     "data": {
      "text/plain": [
       "E    180810\n",
       "J       260\n",
       "Name: packing_box_type, dtype: int64"
      ]
     },
     "execution_count": 56,
     "metadata": {},
     "output_type": "execute_result"
    }
   ],
   "source": [
    "# \"packing_box_type\"\n",
    "data[\"packing_box_type\"].value_counts()\n",
    "# E = Frozen Food (-18°C), J = Chill Food (0-4°C)"
   ]
  },
  {
   "cell_type": "code",
   "execution_count": 57,
   "metadata": {},
   "outputs": [],
   "source": [
    "# Transfer the packing box type into strings which are easier to understand\n",
    "data[\"packing_box_type\"] = data[\"packing_box_type\"].replace(\"E\", \"FROZEN\")\n",
    "data[\"packing_box_type\"] = data[\"packing_box_type\"].replace(\"J\", \"CHILL\") "
   ]
  },
  {
   "cell_type": "code",
   "execution_count": 58,
   "metadata": {},
   "outputs": [
    {
     "data": {
      "text/plain": [
       "G    116832\n",
       "F       227\n",
       "J        24\n",
       "Name: storage_type, dtype: int64"
      ]
     },
     "execution_count": 58,
     "metadata": {},
     "output_type": "execute_result"
    }
   ],
   "source": [
    "# \"storage_type\"\n",
    "data[\"storage_type\"].value_counts()\n",
    "# G = Frozen meet (Frozen <0°C), F = Chill e.g. Yogurt (Chill 0-4°C), J = Chill"
   ]
  },
  {
   "cell_type": "code",
   "execution_count": 59,
   "metadata": {},
   "outputs": [],
   "source": [
    "# \"packing_box_type\" could do the same effect while \"storage_type\" has missing values, so we would drop storage_type out\n",
    "data = data.drop(columns = [\"storage_type\"])"
   ]
  },
  {
   "cell_type": "code",
   "execution_count": 60,
   "metadata": {},
   "outputs": [
    {
     "data": {
      "text/plain": [
       "250mm      14439\n",
       "35mm       10807\n",
       "300mm      10796\n",
       "200mm       9108\n",
       "150mm       8370\n",
       "           ...  \n",
       "2100mm         1\n",
       "16mm           1\n",
       "245mm          1\n",
       "580mm          1\n",
       "30150mm        1\n",
       "Name: height, Length: 130, dtype: int64"
      ]
     },
     "execution_count": 60,
     "metadata": {},
     "output_type": "execute_result"
    }
   ],
   "source": [
    "# \"height\"\n",
    "data[\"height\"].value_counts()"
   ]
  },
  {
   "cell_type": "code",
   "execution_count": 61,
   "metadata": {},
   "outputs": [
    {
     "data": {
      "text/plain": [
       "150mm    17101\n",
       "200mm    13011\n",
       "220mm    12717\n",
       "190mm     8971\n",
       "100mm     7928\n",
       "         ...  \n",
       "63mm         1\n",
       "440mm        1\n",
       "560mm        1\n",
       "460mm        1\n",
       "207mm        1\n",
       "Name: length, Length: 128, dtype: int64"
      ]
     },
     "execution_count": 61,
     "metadata": {},
     "output_type": "execute_result"
    }
   ],
   "source": [
    "# \"length\"\n",
    "data[\"length\"].value_counts()"
   ]
  },
  {
   "cell_type": "code",
   "execution_count": 62,
   "metadata": {},
   "outputs": [
    {
     "data": {
      "text/plain": [
       "30mm     22037\n",
       "50mm     14505\n",
       "40mm     13538\n",
       "20mm      8989\n",
       "35mm      8424\n",
       "         ...  \n",
       "338mm        2\n",
       "46mm         1\n",
       "61mm         1\n",
       "310mm        1\n",
       "33mm         1\n",
       "Name: width, Length: 120, dtype: int64"
      ]
     },
     "execution_count": 62,
     "metadata": {},
     "output_type": "execute_result"
    }
   ],
   "source": [
    "# \"width\"\n",
    "data[\"width\"].value_counts()"
   ]
  },
  {
   "cell_type": "code",
   "execution_count": 63,
   "metadata": {},
   "outputs": [],
   "source": [
    "# Build a function to turn strings into integers\n",
    "data[\"weight\"] = data[\"weight\"].map(lambda x: x.rstrip(\"g\"))"
   ]
  },
  {
   "cell_type": "code",
   "execution_count": 64,
   "metadata": {},
   "outputs": [],
   "source": [
    "# Convert kg to g\n",
    "def to_g(x):\n",
    "    if x[-1] == \"k\":\n",
    "        x = x.rstrip(\"k\")\n",
    "        x = float(x) * 1000\n",
    "    return x"
   ]
  },
  {
   "cell_type": "code",
   "execution_count": 65,
   "metadata": {},
   "outputs": [],
   "source": [
    "data[\"weight\"] = data[\"weight\"].apply(to_g)"
   ]
  },
  {
   "cell_type": "code",
   "execution_count": 66,
   "metadata": {},
   "outputs": [],
   "source": [
    "data[\"weight\"] = data[\"weight\"].astype(float)"
   ]
  },
  {
   "cell_type": "code",
   "execution_count": 67,
   "metadata": {},
   "outputs": [],
   "source": [
    "# Change the size columns from string into integers and floats\n",
    "data[\"height\"] = data[\"height\"].map(lambda x: x.rstrip('mm')).astype(int)\n",
    "data[\"length\"] = data[\"length\"].map(lambda x: x.rstrip('mm')).astype(int)\n",
    "data[\"width\"] = data[\"width\"].map(lambda x: x.rstrip('mm')).astype(float)"
   ]
  },
  {
   "cell_type": "code",
   "execution_count": 68,
   "metadata": {},
   "outputs": [],
   "source": [
    "# Fill in Null values\n",
    "data[\"manufacturer_country_en\"] = data[\"manufacturer_country_en\"].fillna(\"OTHERS\")"
   ]
  },
  {
   "cell_type": "markdown",
   "metadata": {},
   "source": [
    "#### Last but not least, we would like to explore the manufacturer country column."
   ]
  },
  {
   "cell_type": "code",
   "execution_count": 69,
   "metadata": {},
   "outputs": [],
   "source": [
    "# Change all the countries into uppercase to prevent duplicates\n",
    "data[\"manufacturer_country_en\"] = data[\"manufacturer_country_en\"].apply(lambda x: x.upper())"
   ]
  },
  {
   "cell_type": "code",
   "execution_count": 70,
   "metadata": {},
   "outputs": [],
   "source": [
    "# Replace values which duplicates with other the same country name\n",
    "data[\"manufacturer_country_en\"] = data[\"manufacturer_country_en\"].replace({\"VIET NAM\" : \"VIETNAM\", \n",
    "                                                                           \"USA\" : \"UNITED STATES OF AMERICA\", \n",
    "                                                                           \"JAPAN/CHINA\" : \"CHINA/JAPAN\", \n",
    "                                                                           \"US\" : \"UNITED STATES OF AMERICA\", \n",
    "                                                                           \"CANADA/CHINA\" : \"VARIOUS\", \n",
    "                                                                           \"香港\" : \"HONG KONG\",\n",
    "                                                                           \"CANADA, USA, NORWAY, GREENLAND, RUSSIA(PROCESSED ORIGIN: CHINA)\" : \"VARIOUS\", \n",
    "                                                                           \"JAPAN/HONG KONG\" : \"VARIOUS\", \n",
    "                                                                           \"INDONESIA/JAPAN/POLAND\" : \"VARIOUS\", \n",
    "                                                                           \"CHINA/VIETNAM\" : \"VARIOUS\", \n",
    "                                                                           \"RUSSIA/HONG KONG\" : \"VARIOUS\", \n",
    "                                                                           \"JAPAN / TAIWAN\" : \"VARIOUS\", \n",
    "                                                                           \"UK/SCOTLAND\" : \"VARIOUS\", \n",
    "                                                                           \"MEXICO/UNITED STATUS OF AMERICA\" : \"VARIOUS\", \n",
    "                                                                           \"AUSTRALIA/HONDURAS\" : \"VARIOUS\"})"
   ]
  },
  {
   "cell_type": "code",
   "execution_count": 71,
   "metadata": {},
   "outputs": [
    {
     "name": "stdout",
     "output_type": "stream",
     "text": [
      "<class 'pandas.core.frame.DataFrame'>\n",
      "Int64Index: 181070 entries, 1 to 198899\n",
      "Data columns (total 18 columns):\n",
      " #   Column                   Non-Null Count   Dtype  \n",
      "---  ------                   --------------   -----  \n",
      " 0   sku_id                   181070 non-null  object \n",
      " 1   bundle_set               181070 non-null  int64  \n",
      " 2   quantity                 181070 non-null  int64  \n",
      " 3   sub_cat_3_name_en        181070 non-null  object \n",
      " 4   sku_ready_required_days  181070 non-null  int64  \n",
      " 5   packing_box_type         181070 non-null  object \n",
      " 6   weight                   181070 non-null  float64\n",
      " 7   height                   181070 non-null  int64  \n",
      " 8   length                   181070 non-null  int64  \n",
      " 9   width                    181070 non-null  float64\n",
      " 10  manufacturer_country_en  181070 non-null  object \n",
      " 11  is_weekend               181070 non-null  object \n",
      " 12  total_price_from         181070 non-null  float64\n",
      " 13  total_price_to           181070 non-null  float64\n",
      " 14  order_value_from         181070 non-null  float64\n",
      " 15  order_value_to           181070 non-null  float64\n",
      " 16  any_promotion            181070 non-null  int64  \n",
      " 17  total_price_range        181070 non-null  object \n",
      "dtypes: float64(6), int64(6), object(6)\n",
      "memory usage: 26.2+ MB\n"
     ]
    }
   ],
   "source": [
    "# Have a look on how is the dataset now\n",
    "data.info()"
   ]
  },
  {
   "cell_type": "markdown",
   "metadata": {},
   "source": [
    "#### Due to the dataset is actually a sales record in July, there would be products which have been purchased over once, and according to other issues like:\n",
    "##### 1) Did bundle set apply?\n",
    "##### 2) Did the customer purchase more than 1 product?\n",
    "##### 3) Did the customer purchase in weekends or weekdays?\n",
    "##### 4) Did any promotions apply?\n",
    "#### All these issues may cause the same product with different price range, we have to drop those duplicates out of our dataset, and of course, those with the same sku id have to be dropped out as well."
   ]
  },
  {
   "cell_type": "code",
   "execution_count": 72,
   "metadata": {},
   "outputs": [],
   "source": [
    "# Drop duplicates by \"sku_id\" and \"is_weekend\"\n",
    "data = data.drop_duplicates(subset = [\"sku_id\", \"bundle_set\", \"quantity\", \"is_weekend\", \"any_promotion\"])"
   ]
  },
  {
   "cell_type": "code",
   "execution_count": 73,
   "metadata": {},
   "outputs": [
    {
     "name": "stdout",
     "output_type": "stream",
     "text": [
      "<class 'pandas.core.frame.DataFrame'>\n",
      "Int64Index: 10204 entries, 1 to 198899\n",
      "Data columns (total 18 columns):\n",
      " #   Column                   Non-Null Count  Dtype  \n",
      "---  ------                   --------------  -----  \n",
      " 0   sku_id                   10204 non-null  object \n",
      " 1   bundle_set               10204 non-null  int64  \n",
      " 2   quantity                 10204 non-null  int64  \n",
      " 3   sub_cat_3_name_en        10204 non-null  object \n",
      " 4   sku_ready_required_days  10204 non-null  int64  \n",
      " 5   packing_box_type         10204 non-null  object \n",
      " 6   weight                   10204 non-null  float64\n",
      " 7   height                   10204 non-null  int64  \n",
      " 8   length                   10204 non-null  int64  \n",
      " 9   width                    10204 non-null  float64\n",
      " 10  manufacturer_country_en  10204 non-null  object \n",
      " 11  is_weekend               10204 non-null  object \n",
      " 12  total_price_from         10204 non-null  float64\n",
      " 13  total_price_to           10204 non-null  float64\n",
      " 14  order_value_from         10204 non-null  float64\n",
      " 15  order_value_to           10204 non-null  float64\n",
      " 16  any_promotion            10204 non-null  int64  \n",
      " 17  total_price_range        10204 non-null  object \n",
      "dtypes: float64(6), int64(6), object(6)\n",
      "memory usage: 1.5+ MB\n"
     ]
    }
   ],
   "source": [
    "# See how many rows left after dropping duplicates\n",
    "data.info()"
   ]
  },
  {
   "cell_type": "markdown",
   "metadata": {},
   "source": [
    "#### Now we have already dropped out the duplicates, we have to drop out sku id which is also be encoded (cannot be defined), to prevent overfitting of our model."
   ]
  },
  {
   "cell_type": "code",
   "execution_count": 74,
   "metadata": {},
   "outputs": [],
   "source": [
    "# Drop sku_id to prevent overfitting\n",
    "data = data.drop(columns = [\"sku_id\"])"
   ]
  },
  {
   "cell_type": "markdown",
   "metadata": {},
   "source": [
    "#### Let's have a look on distrubutions of the features."
   ]
  },
  {
   "cell_type": "code",
   "execution_count": 75,
   "metadata": {},
   "outputs": [
    {
     "data": {
      "text/plain": [
       "0    0.989612\n",
       "1    0.010388\n",
       "Name: bundle_set, dtype: float64"
      ]
     },
     "execution_count": 75,
     "metadata": {},
     "output_type": "execute_result"
    }
   ],
   "source": [
    "data[\"bundle_set\"].value_counts(normalize = True)"
   ]
  },
  {
   "cell_type": "code",
   "execution_count": 76,
   "metadata": {},
   "outputs": [
    {
     "data": {
      "text/plain": [
       "1     0.511172\n",
       "2     0.251470\n",
       "3     0.091827\n",
       "4     0.065073\n",
       "6     0.028518\n",
       "5     0.022442\n",
       "8     0.008428\n",
       "10    0.007252\n",
       "7     0.005978\n",
       "9     0.002548\n",
       "12    0.002450\n",
       "14    0.000490\n",
       "20    0.000490\n",
       "11    0.000392\n",
       "15    0.000294\n",
       "16    0.000196\n",
       "13    0.000196\n",
       "30    0.000196\n",
       "18    0.000196\n",
       "17    0.000098\n",
       "23    0.000098\n",
       "40    0.000098\n",
       "24    0.000098\n",
       "Name: quantity, dtype: float64"
      ]
     },
     "execution_count": 76,
     "metadata": {},
     "output_type": "execute_result"
    }
   ],
   "source": [
    "data[\"quantity\"].value_counts(normalize = True)"
   ]
  },
  {
   "cell_type": "code",
   "execution_count": 77,
   "metadata": {},
   "outputs": [
    {
     "data": {
      "text/plain": [
       "Frozen Fish               0.539004\n",
       "Frozen Shrimp and Crab    0.192082\n",
       "Frozen Seashell           0.148373\n",
       "Other Frozen Seafood      0.120541\n",
       "Name: sub_cat_3_name_en, dtype: float64"
      ]
     },
     "execution_count": 77,
     "metadata": {},
     "output_type": "execute_result"
    }
   ],
   "source": [
    "data[\"sub_cat_3_name_en\"].value_counts(normalize = True)"
   ]
  },
  {
   "cell_type": "code",
   "execution_count": 78,
   "metadata": {},
   "outputs": [
    {
     "data": {
      "text/plain": [
       "0    0.999608\n",
       "1    0.000392\n",
       "Name: sku_ready_required_days, dtype: float64"
      ]
     },
     "execution_count": 78,
     "metadata": {},
     "output_type": "execute_result"
    }
   ],
   "source": [
    "data[\"sku_ready_required_days\"].value_counts(normalize = True)"
   ]
  },
  {
   "cell_type": "code",
   "execution_count": 79,
   "metadata": {},
   "outputs": [
    {
     "data": {
      "text/plain": [
       "FROZEN    0.996864\n",
       "CHILL     0.003136\n",
       "Name: packing_box_type, dtype: float64"
      ]
     },
     "execution_count": 79,
     "metadata": {},
     "output_type": "execute_result"
    }
   ],
   "source": [
    "data[\"packing_box_type\"].value_counts(normalize = True)"
   ]
  },
  {
   "cell_type": "code",
   "execution_count": 80,
   "metadata": {},
   "outputs": [
    {
     "data": {
      "text/plain": [
       "500.0     0.098785\n",
       "300.0     0.089377\n",
       "250.0     0.051744\n",
       "400.0     0.050372\n",
       "200.0     0.046158\n",
       "            ...   \n",
       "249.0     0.000098\n",
       "56.0      0.000098\n",
       "27.0      0.000098\n",
       "3800.0    0.000098\n",
       "239.0     0.000098\n",
       "Name: weight, Length: 226, dtype: float64"
      ]
     },
     "execution_count": 80,
     "metadata": {},
     "output_type": "execute_result"
    }
   ],
   "source": [
    "data[\"weight\"].value_counts(normalize = True)"
   ]
  },
  {
   "cell_type": "code",
   "execution_count": 81,
   "metadata": {},
   "outputs": [
    {
     "data": {
      "text/plain": [
       "200      0.115935\n",
       "300      0.088985\n",
       "100      0.083105\n",
       "150      0.082811\n",
       "250      0.069189\n",
       "           ...   \n",
       "245      0.000098\n",
       "16       0.000098\n",
       "420      0.000098\n",
       "580      0.000098\n",
       "30150    0.000098\n",
       "Name: height, Length: 130, dtype: float64"
      ]
     },
     "execution_count": 81,
     "metadata": {},
     "output_type": "execute_result"
    }
   ],
   "source": [
    "data[\"height\"].value_counts(normalize = True)"
   ]
  },
  {
   "cell_type": "code",
   "execution_count": 82,
   "metadata": {},
   "outputs": [
    {
     "data": {
      "text/plain": [
       "200    0.130341\n",
       "100    0.121521\n",
       "150    0.119071\n",
       "180    0.047824\n",
       "220    0.042924\n",
       "         ...   \n",
       "63     0.000098\n",
       "253    0.000098\n",
       "460    0.000098\n",
       "207    0.000098\n",
       "560    0.000098\n",
       "Name: length, Length: 128, dtype: float64"
      ]
     },
     "execution_count": 82,
     "metadata": {},
     "output_type": "execute_result"
    }
   ],
   "source": [
    "data[\"length\"].value_counts(normalize = True)"
   ]
  },
  {
   "cell_type": "code",
   "execution_count": 83,
   "metadata": {},
   "outputs": [
    {
     "data": {
      "text/plain": [
       "50.0     0.150921\n",
       "30.0     0.131321\n",
       "20.0     0.094669\n",
       "40.0     0.070855\n",
       "100.0    0.070169\n",
       "           ...   \n",
       "46.0     0.000098\n",
       "147.0    0.000098\n",
       "61.0     0.000098\n",
       "310.0    0.000098\n",
       "33.0     0.000098\n",
       "Name: width, Length: 120, dtype: float64"
      ]
     },
     "execution_count": 83,
     "metadata": {},
     "output_type": "execute_result"
    }
   ],
   "source": [
    "data[\"width\"].value_counts(normalize = True)"
   ]
  },
  {
   "cell_type": "code",
   "execution_count": 84,
   "metadata": {},
   "outputs": [
    {
     "data": {
      "text/plain": [
       "CHINA                          0.218052\n",
       "JAPAN                          0.132105\n",
       "VIETNAM                        0.101627\n",
       "NORWAY                         0.096629\n",
       "CANADA                         0.056056\n",
       "THAILAND                       0.055762\n",
       "NEW ZEALAND                    0.034104\n",
       "HONG KONG                      0.033516\n",
       "UNITED STATES OF AMERICA       0.028714\n",
       "TAIWAN                         0.028714\n",
       "KOREA                          0.027538\n",
       "INDONESIA                      0.026656\n",
       "CHILE                          0.026264\n",
       "MALAYSIA                       0.019208\n",
       "AUSTRALIA                      0.017836\n",
       "ICELAND                        0.010094\n",
       "GREENLAND                      0.007350\n",
       "FRANCE                         0.007252\n",
       "VARIOUS                        0.006566\n",
       "OTHERS                         0.006370\n",
       "BRAZIL                         0.005880\n",
       "INDIA                          0.005782\n",
       "UNITED KINGDOM                 0.003430\n",
       "ARGENTINA                      0.003332\n",
       "SINGAPORE                      0.003332\n",
       "NETHERLANDS                    0.003136\n",
       "SCOTLAND                       0.003038\n",
       "CHINA/JAPAN                    0.003038\n",
       "PORTUGAL                       0.002646\n",
       "SRI LANKA                      0.002548\n",
       "SPAIN                          0.002254\n",
       "RUSSIAN FEDERATION             0.002058\n",
       "PHILIPPINES                    0.001960\n",
       "MYANMAR                        0.001862\n",
       "SWEDEN                         0.001764\n",
       "IRELAND                        0.001764\n",
       "UNITED ARAB EMIRATES           0.001568\n",
       "DENMARK                        0.001274\n",
       "PERU                           0.001176\n",
       "MEXICO                         0.001078\n",
       "BRUNEI DARUSSALAM              0.001078\n",
       "HOLLAND                        0.000980\n",
       "GREECE                         0.000882\n",
       "SOUTH AFRICA                   0.000882\n",
       "RÉUNION                        0.000784\n",
       "ECUADOR                        0.000686\n",
       "NORTH ALANTIC                  0.000294\n",
       "EGYPT                          0.000294\n",
       "NEW CALEDONIA                  0.000294\n",
       "TURKEY                         0.000196\n",
       "FALKLAND ISLANDS (MALVINAS)    0.000196\n",
       "AFRICA                         0.000098\n",
       "Name: manufacturer_country_en, dtype: float64"
      ]
     },
     "execution_count": 84,
     "metadata": {},
     "output_type": "execute_result"
    }
   ],
   "source": [
    "data[\"manufacturer_country_en\"].value_counts(normalize = True)"
   ]
  },
  {
   "cell_type": "code",
   "execution_count": 85,
   "metadata": {},
   "outputs": [
    {
     "data": {
      "text/plain": [
       "weekday    0.685809\n",
       "weekend    0.314191\n",
       "Name: is_weekend, dtype: float64"
      ]
     },
     "execution_count": 85,
     "metadata": {},
     "output_type": "execute_result"
    }
   ],
   "source": [
    "data[\"is_weekend\"].value_counts(normalize = True)"
   ]
  },
  {
   "cell_type": "code",
   "execution_count": 86,
   "metadata": {},
   "outputs": [
    {
     "data": {
      "text/plain": [
       "0    0.561054\n",
       "1    0.438946\n",
       "Name: any_promotion, dtype: float64"
      ]
     },
     "execution_count": 86,
     "metadata": {},
     "output_type": "execute_result"
    }
   ],
   "source": [
    "data[\"any_promotion\"].value_counts(normalize = True)"
   ]
  },
  {
   "cell_type": "markdown",
   "metadata": {},
   "source": [
    "#### Looks every columns are settled, we could drop the price columns now."
   ]
  },
  {
   "cell_type": "code",
   "execution_count": 87,
   "metadata": {},
   "outputs": [],
   "source": [
    "# Drop the columns after calculated\n",
    "data = data.drop(columns = [\"total_price_from\", \"total_price_to\", \"order_value_from\", \"order_value_to\"])"
   ]
  },
  {
   "cell_type": "code",
   "execution_count": 88,
   "metadata": {},
   "outputs": [
    {
     "name": "stdout",
     "output_type": "stream",
     "text": [
      "<class 'pandas.core.frame.DataFrame'>\n",
      "Int64Index: 10204 entries, 1 to 198899\n",
      "Data columns (total 13 columns):\n",
      " #   Column                   Non-Null Count  Dtype  \n",
      "---  ------                   --------------  -----  \n",
      " 0   bundle_set               10204 non-null  int64  \n",
      " 1   quantity                 10204 non-null  int64  \n",
      " 2   sub_cat_3_name_en        10204 non-null  object \n",
      " 3   sku_ready_required_days  10204 non-null  int64  \n",
      " 4   packing_box_type         10204 non-null  object \n",
      " 5   weight                   10204 non-null  float64\n",
      " 6   height                   10204 non-null  int64  \n",
      " 7   length                   10204 non-null  int64  \n",
      " 8   width                    10204 non-null  float64\n",
      " 9   manufacturer_country_en  10204 non-null  object \n",
      " 10  is_weekend               10204 non-null  object \n",
      " 11  any_promotion            10204 non-null  int64  \n",
      " 12  total_price_range        10204 non-null  object \n",
      "dtypes: float64(2), int64(6), object(5)\n",
      "memory usage: 1.1+ MB\n"
     ]
    }
   ],
   "source": [
    "# Final information of the data\n",
    "data.info()"
   ]
  },
  {
   "cell_type": "code",
   "execution_count": 89,
   "metadata": {},
   "outputs": [
    {
     "data": {
      "image/png": "[encoded data removed]",
      "text/plain": [
       "<Figure size 432x288 with 1 Axes>"
      ]
     },
     "metadata": {
      "needs_background": "light"
     },
     "output_type": "display_data"
    }
   ],
   "source": [
    "# Let's have a look on the label distribution\n",
    "ax = sns.countplot(x=\"total_price_range\", data=data)"
   ]
  },
  {
   "cell_type": "markdown",
   "metadata": {},
   "source": [
    "### The data cleansing and EDA process is finished and below would be a brief description of our cleaned data set:\n",
    "#### Features:\n",
    "#### 1) About the product itself:\n",
    "####    a) sub_cat_3_name_en\n",
    "####    b) manufacturer_country_en\n",
    "####    c) weight\n",
    "####    d) height\n",
    "####    e) length\n",
    "####    f) width\n",
    "#### 2) About delivery:\n",
    "####    a) sku_ready_required_days\n",
    "####    b) packing_box_type\n",
    "#### 3) About promotion strategy:\n",
    "####    a) bundle_set\n",
    "####    b) is_weekend\n",
    "####    c) any_promotion\n",
    "####    d) quantity\n",
    "#### y Label (To be predicted):\n",
    "#### total_price_range"
   ]
  },
  {
   "cell_type": "markdown",
   "metadata": {},
   "source": [
    "## We are ready to build the machine learning model now, so let's save the dataset into a new file."
   ]
  },
  {
   "cell_type": "code",
   "execution_count": 90,
   "metadata": {},
   "outputs": [],
   "source": [
    "# Convert to a new csv file\n",
    "data.to_csv(\"Dataset_cleaned.csv\")"
   ]
  },
  {
   "cell_type": "markdown",
   "metadata": {},
   "source": [
    "## Building machine learning models"
   ]
  },
  {
   "cell_type": "markdown",
   "metadata": {},
   "source": [
    "### As the data type of our y label is object, we would like to solve our problem by building classification models. In this project, we would apply two classification models: SVM and XGBoost."
   ]
  },
  {
   "cell_type": "markdown",
   "metadata": {},
   "source": [
    "#### Read the data and prepare X/ y"
   ]
  },
  {
   "cell_type": "code",
   "execution_count": 91,
   "metadata": {},
   "outputs": [],
   "source": [
    "# Read the data\n",
    "data = pd.read_csv(\"Dataset_cleaned.csv\")"
   ]
  },
  {
   "cell_type": "code",
   "execution_count": 92,
   "metadata": {},
   "outputs": [],
   "source": [
    "# Drop the id column\n",
    "data = data.drop(columns = [\"Unnamed: 0\"])"
   ]
  },
  {
   "cell_type": "code",
   "execution_count": 93,
   "metadata": {},
   "outputs": [],
   "source": [
    "# Prepare X and y\n",
    "X = data.drop(\"total_price_range\", axis = 1)  \n",
    "y = data[\"total_price_range\"]"
   ]
  },
  {
   "cell_type": "markdown",
   "metadata": {},
   "source": [
    "#### Feature extractions"
   ]
  },
  {
   "cell_type": "code",
   "execution_count": 94,
   "metadata": {},
   "outputs": [],
   "source": [
    "# Get dummies (Feature Extraction)\n",
    "X_dummies = pd.get_dummies(X[[\"sub_cat_3_name_en\", \"packing_box_type\", \"manufacturer_country_en\", \"is_weekend\"]], drop_first = True)"
   ]
  },
  {
   "cell_type": "code",
   "execution_count": 95,
   "metadata": {},
   "outputs": [],
   "source": [
    "# Join the feature extracted data frame to the original one\n",
    "train_X = pd.concat([X, X_dummies], axis = 1).drop(columns = [\"sub_cat_3_name_en\", \"packing_box_type\", \"manufacturer_country_en\", \"is_weekend\"], axis =1 )"
   ]
  },
  {
   "cell_type": "markdown",
   "metadata": {},
   "source": [
    "#### Standarize the dataset"
   ]
  },
  {
   "cell_type": "code",
   "execution_count": 96,
   "metadata": {},
   "outputs": [],
   "source": [
    "# Standarization\n",
    "X_train_Standard = StandardScaler().fit_transform(train_X)"
   ]
  },
  {
   "cell_type": "code",
   "execution_count": 97,
   "metadata": {},
   "outputs": [],
   "source": [
    "# Split the train test data set\n",
    "X_train, X_test, y_train, y_test = train_test_split(X_train_Standard, y, test_size = 0.3, random_state = 42)"
   ]
  },
  {
   "cell_type": "markdown",
   "metadata": {},
   "source": [
    "#### XGBoost"
   ]
  },
  {
   "cell_type": "code",
   "execution_count": 98,
   "metadata": {},
   "outputs": [
    {
     "name": "stderr",
     "output_type": "stream",
     "text": [
      "/Users/user/opt/anaconda3/lib/python3.9/site-packages/xgboost/sklearn.py:1224: UserWarning: The use of label encoder in XGBClassifier is deprecated and will be removed in a future release. To remove this warning, do the following: 1) Pass option use_label_encoder=False when constructing XGBClassifier object; and 2) Encode your labels (y) as integers starting with 0, i.e. 0, 1, 2, ..., [num_class - 1].\n",
      "  warnings.warn(label_encoder_deprecation_msg, UserWarning)\n"
     ]
    },
    {
     "name": "stdout",
     "output_type": "stream",
     "text": [
      "[13:08:35] WARNING: ../src/learner.cc:1115: Starting in XGBoost 1.3.0, the default evaluation metric used with the objective 'multi:softprob' was changed from 'merror' to 'mlogloss'. Explicitly set eval_metric if you'd like to restore the old behavior.\n",
      "XGBClassifier(base_score=0.5, booster='gbtree', colsample_bylevel=1,\n",
      "              colsample_bynode=1, colsample_bytree=1, enable_categorical=False,\n",
      "              gamma=0.15, gpu_id=-1, importance_type=None,\n",
      "              interaction_constraints='', learning_rate=0.3, max_delta_step=0,\n",
      "              max_depth=6, min_child_weight=1, missing=nan,\n",
      "              monotone_constraints='()', n_estimators=100, n_jobs=4,\n",
      "              num_parallel_tree=1, objective='multi:softprob', predictor='auto',\n",
      "              random_state=0, reg_alpha=0, reg_lambda=1, scale_pos_weight=None,\n",
      "              subsample=1, tree_method='exact', validate_parameters=1,\n",
      "              verbosity=None)\n",
      "Train Accuracy: 0.8937272472696723\n",
      "Test Accuracy: 0.728282168517309\n"
     ]
    }
   ],
   "source": [
    "# Build a XGBoost model\n",
    "# The parameters have been tuned manually by max_depth = [5, 6, 7, 8, 9, 10], learning_rate = [0.1, 0.2, 0.25, 0.3, 0.35, 0.4],\n",
    "# min_child_weight = [1, 2, 3], gamma = [0.5, 0.1, 0.15, 0.2], and finally the parameters as below had the best performance.\n",
    "# P.S. The process of tuning parameters have been deleted from this notebook to save the code's running time\n",
    "model = xgb.XGBClassifier(max_depth = 6, learning_rate = 0.3, min_child_weight = 1, gamma = 0.15)\n",
    "model.fit(X_train, y_train)\n",
    "print(model)\n",
    "\n",
    "# make predictions for test data\n",
    "X_pred_test_XG = model.predict(X_train)\n",
    "y_pred_test_XG = model.predict(X_test)\n",
    "\n",
    "# evaluate predictions\n",
    "acc_train_XG = accuracy_score(y_train, X_pred_test_XG)\n",
    "print(\"Train Accuracy:\", acc_train_XG)\n",
    "acc_val_XG = accuracy_score(y_test, y_pred_test_XG)\n",
    "print(\"Test Accuracy:\", acc_val_XG)"
   ]
  },
  {
   "cell_type": "code",
   "execution_count": 99,
   "metadata": {},
   "outputs": [
    {
     "name": "stdout",
     "output_type": "stream",
     "text": [
      "              precision    recall  f1-score   support\n",
      "\n",
      "     101-200       0.67      0.79      0.72       867\n",
      "     201-300       0.67      0.50      0.57       307\n",
      "     301-400       0.62      0.48      0.54       176\n",
      "      51-100       0.67      0.46      0.55       455\n",
      "        < 50       0.81      0.91      0.86      1045\n",
      "       > 401       0.77      0.69      0.73       147\n",
      "        FREE       0.90      0.68      0.77        65\n",
      "\n",
      "    accuracy                           0.73      3062\n",
      "   macro avg       0.73      0.64      0.68      3062\n",
      "weighted avg       0.72      0.73      0.72      3062\n",
      "\n"
     ]
    }
   ],
   "source": [
    "# Check the classification report\n",
    "print(classification_report(y_test, y_pred_test_XG, zero_division = 0))"
   ]
  },
  {
   "cell_type": "code",
   "execution_count": 100,
   "metadata": {},
   "outputs": [
    {
     "name": "stdout",
     "output_type": "stream",
     "text": [
      "[[688  26  11  53  78  11   0]\n",
      " [116 152  18   9   7   5   0]\n",
      " [ 45  31  85   0   1  14   0]\n",
      " [122   6   1 210 116   0   0]\n",
      " [ 45   2   1  42 950   0   5]\n",
      " [ 15  10  21   0   0 101   0]\n",
      " [  0   0   0   0  21   0  44]]\n"
     ]
    }
   ],
   "source": [
    "#Confusion Matrics - Recall Precision\n",
    "print(confusion_matrix(y_test, y_pred_test_XG))"
   ]
  },
  {
   "cell_type": "markdown",
   "metadata": {},
   "source": [
    "#### The accuracy of test data is about 73%, and that of train data is about 89%. Althought the accuracies for 51 - 100, 201 - 300, 51 - 100 are relatively low, the overall performance of this model is quite good but there may be some overfitting problem which should be aware."
   ]
  },
  {
   "cell_type": "markdown",
   "metadata": {},
   "source": [
    "#### And according to the confusion matrix, looks like:\n",
    "#### 1) 201-300 is easily to be predicted as 101-200 incorrectly\n",
    "#### 2) 301-400 is easily to be predicted as 101-200 or 201-300 incorrectly\n",
    "#### 3) 51-100 is easily to be predicted as 101-200 or <50 incorrectly\n",
    "#### Which means these three labels would be easily predicted to the one upper or lower price range incorrectly, and it is relatively make sense."
   ]
  },
  {
   "cell_type": "markdown",
   "metadata": {},
   "source": [
    "#### SVM"
   ]
  },
  {
   "cell_type": "code",
   "execution_count": 101,
   "metadata": {},
   "outputs": [],
   "source": [
    "# Build SVM Model\n",
    "# Grid search has been applied for finding the best kernel, but that process has been deleted to save time for running code\n",
    "\n",
    "clf_rbf = SVC(kernel = \"rbf\")\n",
    "clf_rbf.fit(X_train, y_train)\n",
    "\n",
    "y_pred_train_SVM_rbf = clf_rbf.predict(X_train)\n",
    "y_pred_val_SVM_rbf = clf_rbf.predict(X_test)"
   ]
  },
  {
   "cell_type": "code",
   "execution_count": 102,
   "metadata": {},
   "outputs": [
    {
     "name": "stdout",
     "output_type": "stream",
     "text": [
      "Accuracy for Train (SVM_rbf): 0.5456454774572949, Accuracy for Val (SVM_rbf): 0.5280862181580667\n"
     ]
    }
   ],
   "source": [
    "# Compare the accuracy\n",
    "\n",
    "acc_train_SVM_rbf = accuracy_score(y_train, y_pred_train_SVM_rbf)\n",
    "acc_val_SVM_rbf = accuracy_score(y_test, y_pred_val_SVM_rbf)\n",
    "print(\"Accuracy for Train (SVM_rbf): {0}, Accuracy for Val (SVM_rbf): {1}\". format(acc_train_SVM_rbf, acc_val_SVM_rbf))"
   ]
  },
  {
   "cell_type": "code",
   "execution_count": 103,
   "metadata": {},
   "outputs": [
    {
     "name": "stdout",
     "output_type": "stream",
     "text": [
      "              precision    recall  f1-score   support\n",
      "\n",
      "     101-200       0.43      0.75      0.55       867\n",
      "     201-300       0.38      0.04      0.07       307\n",
      "     301-400       0.25      0.02      0.03       176\n",
      "      51-100       0.62      0.01      0.02       455\n",
      "        < 50       0.62      0.86      0.72      1045\n",
      "       > 401       0.72      0.32      0.44       147\n",
      "        FREE       0.17      0.02      0.03        65\n",
      "\n",
      "    accuracy                           0.53      3062\n",
      "   macro avg       0.46      0.29      0.27      3062\n",
      "weighted avg       0.52      0.53      0.44      3062\n",
      "\n"
     ]
    }
   ],
   "source": [
    "# Check the classification report\n",
    "print(classification_report(y_test, y_pred_val_SVM_rbf, zero_division = 0))"
   ]
  },
  {
   "cell_type": "code",
   "execution_count": 104,
   "metadata": {},
   "outputs": [
    {
     "name": "stdout",
     "output_type": "stream",
     "text": [
      "[[654   3   1   0 204   5   0]\n",
      " [269  11   3   0  20   4   0]\n",
      " [149   8   3   0   7   9   0]\n",
      " [202   0   0   5 247   0   1]\n",
      " [142   0   0   3 896   0   4]\n",
      " [ 87   7   5   0   1  47   0]\n",
      " [  2   0   0   0  62   0   1]]\n"
     ]
    }
   ],
   "source": [
    "#Confusion Matrics - Recall Precision\n",
    "print(confusion_matrix(y_test, y_pred_val_SVM_rbf))"
   ]
  },
  {
   "cell_type": "markdown",
   "metadata": {},
   "source": [
    "#### The accuracy for both train and test data are highly decreased which most of the results have been predicted to 101-200 or < 50 which make the overall accuracies of the other labels are extremely low. The problem of overfitting in SVM model may be better than XGBoost, but due to the higher accuracy of XGBoost model, we would choose XGBoost as our finalized model."
   ]
  },
  {
   "cell_type": "code",
   "execution_count": 105,
   "metadata": {},
   "outputs": [],
   "source": [
    "# Save the model\n",
    "filename = 'finalized_model.sav'\n",
    "pickle.dump(model, open(filename, 'wb'))"
   ]
  },
  {
   "cell_type": "markdown",
   "metadata": {},
   "source": [
    "#### Let's try to apply our built model to see what should be the price range of our new products."
   ]
  },
  {
   "cell_type": "markdown",
   "metadata": {},
   "source": [
    "#### A quick guide on how to prepare a \"product_list.csv\":"
   ]
  },
  {
   "cell_type": "markdown",
   "metadata": {},
   "source": [
    "#### Prepare a csv file named \"product_list.csv\" with below columns and related values:\n",
    "#### 1) bundle_set: If the product is going to be sold in a bundle set, set 1, else set 0.                 \n",
    "#### 2) quantity: Enter the number for sell quantity                   \n",
    "#### 3) sub_cat_3_name_en: Choose one of these categories: a) Frozen Fish b) Frozen Shrimp and Crab c) Frozen Seashell d) Other Frozen Seafood\n",
    "#### 4) sku_ready_required_days: Enter 0 or 1   \n",
    "#### 5) packing_box_type: Enter FROZEN or CHILL       \n",
    "#### 6) weight: Enter the number of weight in g                   \n",
    "#### 7) height: Enter the number of height in mm                     \n",
    "#### 8) length: Enter the number of height in mm                     \n",
    "#### 9) width: Enter the number of height in mm                    \n",
    "#### 10) manufacturer_country_en: Enter the manufactuter country in upper case (Like CHINA, JAPAN, etc.)   \n",
    "#### 11) is_weekend: If the product is going to be sold in a weekend, set 1, else set 0.               \n",
    "#### 12) any_promotion: If any promotion applied, set 1, else set 0."
   ]
  },
  {
   "cell_type": "code",
   "execution_count": 106,
   "metadata": {},
   "outputs": [],
   "source": [
    "# load the model from disk\n",
    "loaded_model = pickle.load(open(filename, 'rb'))"
   ]
  },
  {
   "cell_type": "code",
   "execution_count": 107,
   "metadata": {},
   "outputs": [],
   "source": [
    "# load the product list\n",
    "x = pd.read_csv(\"product_list.csv\")"
   ]
  },
  {
   "cell_type": "code",
   "execution_count": 108,
   "metadata": {},
   "outputs": [],
   "source": [
    "# feature extraction\n",
    "x_dummies = pd.get_dummies(x[[\"sub_cat_3_name_en\", \"packing_box_type\", \"manufacturer_country_en\", \"is_weekend\"]])\n",
    "predict_x = pd.concat([x, x_dummies], axis = 1).drop(columns = [\"sub_cat_3_name_en\", \"packing_box_type\", \"manufacturer_country_en\", \"is_weekend\"], axis =1 )"
   ]
  },
  {
   "cell_type": "code",
   "execution_count": 109,
   "metadata": {},
   "outputs": [],
   "source": [
    "# Add other feature columns with 0 to prevent shape error\n",
    "features = []\n",
    "for i in train_X.columns:\n",
    "    features.append(i)\n",
    "for i in predict_x.columns:\n",
    "    if i in features:\n",
    "        features.remove(i)\n",
    "for feature in features:\n",
    "    # Create a list of 0 with the number of products\n",
    "    a = [0, 0, 0, 0, 0, 0, 0, 0]\n",
    "    predict_x[feature] = a\n",
    "# Drop duplicated columns\n",
    "predict_x = predict_x.drop(columns = [\"is_weekend_weekend\", \"sub_cat_3_name_en_Other Frozen Seafood\"])"
   ]
  },
  {
   "cell_type": "code",
   "execution_count": 110,
   "metadata": {},
   "outputs": [],
   "source": [
    "# Standarization\n",
    "x_predict_standard = StandardScaler().fit_transform(predict_x)"
   ]
  },
  {
   "cell_type": "code",
   "execution_count": 111,
   "metadata": {},
   "outputs": [],
   "source": [
    "# Predict the price range\n",
    "y_predict = loaded_model.predict(x_predict_standard)"
   ]
  },
  {
   "cell_type": "code",
   "execution_count": 112,
   "metadata": {},
   "outputs": [
    {
     "name": "stdout",
     "output_type": "stream",
     "text": [
      "         0\n",
      "0     < 50\n",
      "1     < 50\n",
      "2  101-200\n",
      "3  101-200\n",
      "4  101-200\n",
      "5  101-200\n",
      "6  101-200\n",
      "7   51-100\n"
     ]
    }
   ],
   "source": [
    "# Print out the result\n",
    "result = pd.DataFrame(y_predict)\n",
    "print(result)"
   ]
  },
  {
   "cell_type": "markdown",
   "metadata": {},
   "source": [
    "#### So here are the predicted results of our new products! However, can we do any improvements in our model?"
   ]
  },
  {
   "cell_type": "markdown",
   "metadata": {},
   "source": [
    "#### Definitely yes!"
   ]
  },
  {
   "cell_type": "markdown",
   "metadata": {},
   "source": [
    "#### We can do something more as below to help the model with better performance:\n",
    "#### 1) Break down the category in more detailed: Shrimp/ crab, raw/ cooked, etc.\n",
    "#### 2) Collect more data in different seasons to increase the quantity of features: Winter, summer, etc.\n",
    "#### 3) Collect product information by web crawling with NLP like sold quantity, comment review, etc., by doing this, we may crawl the exact price of a product which may help us in setting a smaller price range and a more precised data set!"
   ]
  },
  {
   "cell_type": "markdown",
   "metadata": {},
   "source": [
    "#### Guess these could help to increase the model accuracy!"
   ]
  },
  {
   "cell_type": "markdown",
   "metadata": {},
   "source": [
    "#### Also, we could add in some more features to create some instant results for price decision.\n",
    "#### 1) By adding some cost related features like delivery cost and storage cost, we could see if the profit earned by one product is worth to be sold. If the profit is too low which need to be sold in extremely high quantity to earn stable profit, we may decide not to sell that product.\n",
    "#### 2) We may also add some dynamic pricing strategy in it, which means to tune the price according to the competitor's price, if our competitors sell the product in a high price range, it will be fine for us to tune the price range to the relatively high, but a bit lower than that of our competitors. This could be achived by adding a feature about the competitor's pricing."
   ]
  },
  {
   "cell_type": "markdown",
   "metadata": {},
   "source": [
    "#### A extended side project from this project: We may apply a NLP model to find a product category list whihc has less competitors!"
   ]
  },
  {
   "cell_type": "markdown",
   "metadata": {},
   "source": [
    "#### Looks like there are so many things that could be explore from this project!"
   ]
  },
  {
   "cell_type": "code",
   "execution_count": null,
   "metadata": {},
   "outputs": [],
   "source": []
  }
 ],
 "metadata": {
  "kernelspec": {
   "display_name": "Python 3 (ipykernel)",
   "language": "python",
   "name": "python3"
  },
  "language_info": {
   "codemirror_mode": {
    "name": "ipython",
    "version": 3
   },
   "file_extension": ".py",
   "mimetype": "text/x-python",
   "name": "python",
   "nbconvert_exporter": "python",
   "pygments_lexer": "ipython3",
   "version": "3.9.7"
  }
 },
 "nbformat": 4,
 "nbformat_minor": 4
}
