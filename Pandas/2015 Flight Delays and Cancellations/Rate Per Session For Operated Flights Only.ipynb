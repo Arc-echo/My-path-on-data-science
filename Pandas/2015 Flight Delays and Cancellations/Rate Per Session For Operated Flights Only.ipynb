{
 "cells": [
  {
   "cell_type": "code",
   "execution_count": 25,
   "id": "4a78134f-1149-4af3-b9c4-5267d1975acf",
   "metadata": {},
   "outputs": [],
   "source": [
    "# Import necessary libraries\n",
    "import pandas as pd\n",
    "import numpy as np\n",
    "import seaborn as sns\n",
    "import matplotlib.pyplot as plt"
   ]
  },
  {
   "cell_type": "code",
   "execution_count": 26,
   "id": "02aa5af2-4e38-4bb3-8542-f9281d4940bb",
   "metadata": {},
   "outputs": [
    {
     "name": "stderr",
     "output_type": "stream",
     "text": [
      "/Users/user/opt/anaconda3/lib/python3.9/site-packages/IPython/core/interactiveshell.py:3444: DtypeWarning: Columns (7,8) have mixed types.Specify dtype option on import or set low_memory=False.\n",
      "  exec(code_obj, self.user_global_ns, self.user_ns)\n"
     ]
    }
   ],
   "source": [
    "# Read necessary csv files\n",
    "df_airports = pd.read_csv(\"airports.csv\")\n",
    "df_airlines = pd.read_csv(\"airlines.csv\")\n",
    "df_flights = pd.read_csv(\"flights.csv\")"
   ]
  },
  {
   "cell_type": "code",
   "execution_count": 27,
   "id": "c1205501-b8c8-40fc-8a13-538aceb61890",
   "metadata": {},
   "outputs": [],
   "source": [
    "# Build a function to aggerate a new column later\n",
    "def change_to_rate(n):\n",
    "    if n > 0 and n <= 599:\n",
    "        return \"0-6AM Rate\"\n",
    "    elif n >= 600 and n <= 1159:\n",
    "        return \"6AM-12PM Rate\"\n",
    "    elif n >= 1200 and n <= 1759:\n",
    "        return \"12-6PM Rate\"\n",
    "    else:\n",
    "        return \"6PM-12PM Rate\""
   ]
  },
  {
   "cell_type": "code",
   "execution_count": 28,
   "id": "46d1692b-6582-426d-9e0f-99dc1f2b704f",
   "metadata": {},
   "outputs": [],
   "source": [
    "# Add a column which seperate the departure time to differenct sections\n",
    "df_flights[\"RATE\"] = df_flights[\"DEPARTURE_TIME\"].apply(change_to_rate)"
   ]
  },
  {
   "cell_type": "code",
   "execution_count": 29,
   "id": "941e147c-7495-432b-a6b5-02f56def19a4",
   "metadata": {},
   "outputs": [],
   "source": [
    "# Get the number of total flights by sessions\n",
    "df_1 = df_flights[df_flights[\"CANCELLED\"] == 0].groupby([\"ORIGIN_AIRPORT\", \"RATE\"]).agg(TOTAL_FLIGHTS_BY_SESSIONS = (\"RATE\", \"count\"))"
   ]
  },
  {
   "cell_type": "code",
   "execution_count": 30,
   "id": "aaecb462-c49c-468e-8525-a25ff2508442",
   "metadata": {},
   "outputs": [],
   "source": [
    "# Get the number of total flights by airports\n",
    "df_2 = df_flights[df_flights[\"CANCELLED\"] == 0].groupby(\"ORIGIN_AIRPORT\").agg(TOTAL_FLIGHTS_BY_AIRPORTS = (\"RATE\", \"count\"))"
   ]
  },
  {
   "cell_type": "code",
   "execution_count": 31,
   "id": "3131c594-87d1-4d01-91d0-c743a14ded23",
   "metadata": {},
   "outputs": [],
   "source": [
    "# Merge the dataframes\n",
    "df_result = df_1.reset_index().merge(df_2.reset_index(), on = \"ORIGIN_AIRPORT\", how = \"inner\")\n",
    "# Add a column to calculate the ratio per sessions\n",
    "df_result[\"RATIO\"] = df_result[\"TOTAL_FLIGHTS_BY_SESSIONS\"] / df_result[\"TOTAL_FLIGHTS_BY_AIRPORTS\"] * 100"
   ]
  },
  {
   "cell_type": "code",
   "execution_count": 32,
   "id": "c1fd39ba-96fa-4dab-b0e7-323bb63a3892",
   "metadata": {},
   "outputs": [],
   "source": [
    "# As some of the airport names are valid, filter those by airports.csv\n",
    "df_filtered = df_result.merge(df_airports, left_on = \"ORIGIN_AIRPORT\", right_on = \"IATA_CODE\", how = \"inner\")\n",
    "df_filtered = df_filtered[[\"ORIGIN_AIRPORT\", \"RATE\", \"RATIO\"]]"
   ]
  },
  {
   "cell_type": "code",
   "execution_count": 33,
   "id": "16d09547-a1d9-4607-9925-2b99d3e0dcb8",
   "metadata": {},
   "outputs": [],
   "source": [
    "# Reshape it as a pivot table for easier to read\n",
    "df_pivot = df_filtered[[\"ORIGIN_AIRPORT\", \"RATE\", \"RATIO\"]]\n",
    "df_pivot = df_pivot.pivot(index = \"ORIGIN_AIRPORT\", columns = \"RATE\", values = \"RATIO\")"
   ]
  },
  {
   "cell_type": "code",
   "execution_count": 35,
   "id": "8fa1c80b-f04d-4cde-8186-bb2ff640c62e",
   "metadata": {},
   "outputs": [
    {
     "data": {
      "text/html": [
       "<div>\n",
       "<style scoped>\n",
       "    .dataframe tbody tr th:only-of-type {\n",
       "        vertical-align: middle;\n",
       "    }\n",
       "\n",
       "    .dataframe tbody tr th {\n",
       "        vertical-align: top;\n",
       "    }\n",
       "\n",
       "    .dataframe thead th {\n",
       "        text-align: right;\n",
       "    }\n",
       "</style>\n",
       "<table border=\"1\" class=\"dataframe\">\n",
       "  <thead>\n",
       "    <tr style=\"text-align: right;\">\n",
       "      <th>RATE</th>\n",
       "      <th>0-6AM Rate</th>\n",
       "      <th>12-6PM Rate</th>\n",
       "      <th>6AM-12PM Rate</th>\n",
       "      <th>6PM-12PM Rate</th>\n",
       "    </tr>\n",
       "    <tr>\n",
       "      <th>ORIGIN_AIRPORT</th>\n",
       "      <th></th>\n",
       "      <th></th>\n",
       "      <th></th>\n",
       "      <th></th>\n",
       "    </tr>\n",
       "  </thead>\n",
       "  <tbody>\n",
       "    <tr>\n",
       "      <th>ABE</th>\n",
       "      <td>11.722595</td>\n",
       "      <td>46.935123</td>\n",
       "      <td>37.807606</td>\n",
       "      <td>3.534676</td>\n",
       "    </tr>\n",
       "    <tr>\n",
       "      <th>ABI</th>\n",
       "      <td>12.275986</td>\n",
       "      <td>26.075269</td>\n",
       "      <td>50.492832</td>\n",
       "      <td>11.155914</td>\n",
       "    </tr>\n",
       "    <tr>\n",
       "      <th>ABQ</th>\n",
       "      <td>6.275026</td>\n",
       "      <td>41.517387</td>\n",
       "      <td>37.839831</td>\n",
       "      <td>14.367756</td>\n",
       "    </tr>\n",
       "    <tr>\n",
       "      <th>ABR</th>\n",
       "      <td>46.304676</td>\n",
       "      <td>49.622926</td>\n",
       "      <td>3.167421</td>\n",
       "      <td>0.904977</td>\n",
       "    </tr>\n",
       "    <tr>\n",
       "      <th>ABY</th>\n",
       "      <td>24.913495</td>\n",
       "      <td>47.404844</td>\n",
       "      <td>23.068051</td>\n",
       "      <td>4.613610</td>\n",
       "    </tr>\n",
       "    <tr>\n",
       "      <th>ACK</th>\n",
       "      <td>NaN</td>\n",
       "      <td>72.016461</td>\n",
       "      <td>19.135802</td>\n",
       "      <td>8.847737</td>\n",
       "    </tr>\n",
       "    <tr>\n",
       "      <th>ACT</th>\n",
       "      <td>17.478882</td>\n",
       "      <td>37.166992</td>\n",
       "      <td>26.055880</td>\n",
       "      <td>19.298246</td>\n",
       "    </tr>\n",
       "    <tr>\n",
       "      <th>ACV</th>\n",
       "      <td>18.991332</td>\n",
       "      <td>38.140268</td>\n",
       "      <td>24.901497</td>\n",
       "      <td>17.966903</td>\n",
       "    </tr>\n",
       "    <tr>\n",
       "      <th>ACY</th>\n",
       "      <td>5.294451</td>\n",
       "      <td>31.823330</td>\n",
       "      <td>45.753114</td>\n",
       "      <td>17.129105</td>\n",
       "    </tr>\n",
       "    <tr>\n",
       "      <th>ADK</th>\n",
       "      <td>NaN</td>\n",
       "      <td>49.438202</td>\n",
       "      <td>NaN</td>\n",
       "      <td>50.561798</td>\n",
       "    </tr>\n",
       "  </tbody>\n",
       "</table>\n",
       "</div>"
      ],
      "text/plain": [
       "RATE            0-6AM Rate  12-6PM Rate  6AM-12PM Rate  6PM-12PM Rate\n",
       "ORIGIN_AIRPORT                                                       \n",
       "ABE              11.722595    46.935123      37.807606       3.534676\n",
       "ABI              12.275986    26.075269      50.492832      11.155914\n",
       "ABQ               6.275026    41.517387      37.839831      14.367756\n",
       "ABR              46.304676    49.622926       3.167421       0.904977\n",
       "ABY              24.913495    47.404844      23.068051       4.613610\n",
       "ACK                    NaN    72.016461      19.135802       8.847737\n",
       "ACT              17.478882    37.166992      26.055880      19.298246\n",
       "ACV              18.991332    38.140268      24.901497      17.966903\n",
       "ACY               5.294451    31.823330      45.753114      17.129105\n",
       "ADK                    NaN    49.438202            NaN      50.561798"
      ]
     },
     "execution_count": 35,
     "metadata": {},
     "output_type": "execute_result"
    }
   ],
   "source": [
    "df_pivot.head(10)"
   ]
  },
  {
   "cell_type": "code",
   "execution_count": null,
   "id": "71169107-f7e8-4bcb-adc4-5624a30c7a63",
   "metadata": {},
   "outputs": [],
   "source": []
  }
 ],
 "metadata": {
  "kernelspec": {
   "display_name": "Python 3 (ipykernel)",
   "language": "python",
   "name": "python3"
  },
  "language_info": {
   "codemirror_mode": {
    "name": "ipython",
    "version": 3
   },
   "file_extension": ".py",
   "mimetype": "text/x-python",
   "name": "python",
   "nbconvert_exporter": "python",
   "pygments_lexer": "ipython3",
   "version": "3.9.7"
  }
 },
 "nbformat": 4,
 "nbformat_minor": 5
}
