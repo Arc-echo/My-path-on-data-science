{
 "cells": [
  {
   "cell_type": "code",
   "execution_count": 1,
   "id": "f0ea9309-d85a-416e-8d9c-0a2050e4b126",
   "metadata": {},
   "outputs": [],
   "source": [
    "# Import necessary libraries\n",
    "import pandas as pd\n",
    "import numpy as np\n",
    "import seaborn as sns\n",
    "import matplotlib.pyplot as plt"
   ]
  },
  {
   "cell_type": "code",
   "execution_count": 2,
   "id": "5d9992d3-cd81-493e-bcd3-f1ea96c37e91",
   "metadata": {},
   "outputs": [
    {
     "name": "stderr",
     "output_type": "stream",
     "text": [
      "/Users/user/opt/anaconda3/lib/python3.9/site-packages/IPython/core/interactiveshell.py:3444: DtypeWarning: Columns (7,8) have mixed types.Specify dtype option on import or set low_memory=False.\n",
      "  exec(code_obj, self.user_global_ns, self.user_ns)\n"
     ]
    }
   ],
   "source": [
    "# Read necessary csv files\n",
    "df_airports = pd.read_csv(\"airports.csv\")\n",
    "df_airlines = pd.read_csv(\"airlines.csv\")\n",
    "df_flights = pd.read_csv(\"flights.csv\")"
   ]
  },
  {
   "cell_type": "code",
   "execution_count": 3,
   "id": "6d3d81db-2c20-4f85-9fce-6c93f43deaa0",
   "metadata": {},
   "outputs": [],
   "source": [
    "# Add a new column to check if the flights are operated\n",
    "df_flights[\"OPERATED\"] = df_flights[\"CANCELLED\"].apply(lambda x: 1 if x == 0 else 0)"
   ]
  },
  {
   "cell_type": "code",
   "execution_count": 4,
   "id": "aea228e1-d489-41b1-92ba-72d105503866",
   "metadata": {},
   "outputs": [],
   "source": [
    "# Add a new column to check if the flights are delayed\n",
    "df_flights[\"DELAY_RATE\"] = df_flights[\"DEPARTURE_DELAY\"].apply(lambda x: 1 if x > 0 else 0)"
   ]
  },
  {
   "cell_type": "code",
   "execution_count": 18,
   "id": "810f915f-f2b6-4052-abf4-c39c80144309",
   "metadata": {},
   "outputs": [],
   "source": [
    "# Build a dataframe grouped by AIRLINE and ORIGIN_AIRPORT, and add number of flights, operated rate and delay rate on it\n",
    "df_1 = df_flights.groupby([\"AIRLINE\", \"ORIGIN_AIRPORT\"]).agg(\n",
    "    TOTAL_FLIGHT = (\"FLIGHT_NUMBER\", \"count\"),\n",
    "    OPERATED = (\"OPERATED\", \"mean\"),\n",
    "    DELAY_RATE = (\"DELAY_RATE\", \"mean\"))"
   ]
  },
  {
   "cell_type": "code",
   "execution_count": 19,
   "id": "5de4b837-bd3b-4e97-b52c-f62ee15bbbbf",
   "metadata": {},
   "outputs": [],
   "source": [
    "# Build another dataframe with average delay minutes data, whcih only those flights have been delayed will be counted in\n",
    "df_2 = df_flights.loc[df_flights[\"DELAY_RATE\"] == 1].groupby([\"AIRLINE\", \"ORIGIN_AIRPORT\"]).agg({\n",
    "    \"DEPARTURE_DELAY\": \"mean\"\n",
    "})"
   ]
  },
  {
   "cell_type": "code",
   "execution_count": 20,
   "id": "0954c9ca-8141-43ae-ada0-33b173fdb031",
   "metadata": {},
   "outputs": [],
   "source": [
    "# Reset the indexes to merge these two dataframes into one later on\n",
    "df_1 = df_1.reset_index()\n",
    "df_2 = df_2.reset_index()"
   ]
  },
  {
   "cell_type": "code",
   "execution_count": 21,
   "id": "a0c0b49d-cc20-47bb-80bc-2002590bda8f",
   "metadata": {},
   "outputs": [
    {
     "name": "stdout",
     "output_type": "stream",
     "text": [
      "  AIRLINE ORIGIN_AIRPORT  TOTAL_FLIGHT  OPERATED  DELAY_RATE  DEPARTURE_DELAY\n",
      "0      AA          10140           174  0.977011    0.247126        43.209302\n",
      "1      AA          10257            80  1.000000    0.212500        27.764706\n",
      "2      AA          10299            32  1.000000    0.250000         8.125000\n",
      "3      AA          10397           917  0.992366    0.260632        22.991632\n",
      "4      AA          10423           786  0.980916    0.226463        42.050562\n",
      "5      AA          10529           264  0.992424    0.193182        18.882353\n",
      "6      AA          10693           453  0.988962    0.245033        26.954955\n",
      "7      AA          10713            62  1.000000    0.290323        37.666667\n",
      "8      AA          10721          2414  0.986330    0.259735        28.937799\n",
      "9      AA          10792           104  0.990385    0.230769        19.458333\n"
     ]
    }
   ],
   "source": [
    "# Merge the dataframes into one\n",
    "report = df_1.merge(df_2, on=[\"AIRLINE\", \"ORIGIN_AIRPORT\"], how=\"inner\")\n",
    "print(report.head(10))"
   ]
  },
  {
   "cell_type": "code",
   "execution_count": null,
   "id": "68569efd-c98b-4762-ae5b-8b1392e779ee",
   "metadata": {},
   "outputs": [],
   "source": []
  }
 ],
 "metadata": {
  "kernelspec": {
   "display_name": "Python 3 (ipykernel)",
   "language": "python",
   "name": "python3"
  },
  "language_info": {
   "codemirror_mode": {
    "name": "ipython",
    "version": 3
   },
   "file_extension": ".py",
   "mimetype": "text/x-python",
   "name": "python",
   "nbconvert_exporter": "python",
   "pygments_lexer": "ipython3",
   "version": "3.9.7"
  }
 },
 "nbformat": 4,
 "nbformat_minor": 5
}
